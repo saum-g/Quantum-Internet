{
 "cells": [
  {
   "cell_type": "markdown",
   "metadata": {},
   "source": [
    "End nodes for end users. The end users have direct access to their end nodes in the application layer. Should this be here or should it be in the network layer? I think it should be here. Let's put it here and see how it works out."
   ]
  },
  {
   "cell_type": "code",
   "execution_count": 1,
   "metadata": {
    "tags": []
   },
   "outputs": [],
   "source": [
    "%load_ext autoreload\n",
    "%autoreload 2"
   ]
  },
  {
   "cell_type": "code",
   "execution_count": 2,
   "metadata": {
    "tags": []
   },
   "outputs": [
    {
     "output_type": "stream",
     "name": "stdout",
     "text": "Overwriting endnode.py\n"
    }
   ],
   "source": [
    "%%writefile endnode.py\n",
    "import sys\n",
    "\n",
    "sys.path.append(\"..\")\n",
    "from _5_The_Physical_Layer.node_hardware.endnode_hardware import EndnodeHardware\n",
    "from _4_The_Link_Layer.link import Link\n",
    "\n",
    "class Endnode(object):\n",
    "    def __init__(self):\n",
    "        print(\"creating new endnode\")\n",
    "        self.netId = None\n",
    "        self.hardware = EndnodeHardware(self)\n",
    "        self.upper_link = None\n",
    "        self.lower_link = None\n",
    "        self.upper_cable = None\n",
    "        self.lower_cable = None\n",
    "        self.parent_application = None\n",
    "        self.parent_repeater_chain = None\n",
    "        self.send_flag = False\n",
    "\n",
    "    def connect_cable(self, cable, upper_or_lower=\"lower\"):\n",
    "        print(\"connecting \" + upper_or_lower + \" cable in endnode\")\n",
    "        if upper_or_lower == \"upper\":\n",
    "            self.upper_cable = cable\n",
    "        else:\n",
    "            self.lower_cable = cable\n",
    "        self.hardware.connect_fiber(cable.optical_fiber, upper_or_lower)\n",
    "        cable.connect_node(self)\n",
    "\n",
    "    def teleport_qubit(self): # teleport using the lower qubit\n",
    "        # ask the hardware to execute the teleportation circuit\n",
    "        self.hardware.teleport_qubit()\n",
    "        # destroy link involved in teleport\n",
    "        self.lower_link = None\n",
    "\n",
    "    # attempt to create link with another repeater\n",
    "    def attempt_link_creation(self, remote_node, upper_or_lower=\"lower\"):\n",
    "        print(\"attempting \" + upper_or_lower + \" link creation in endnode\")\n",
    "        # prepare a link layer Link object.\n",
    "        if self.lower_cable is None and self.upper_cable is None:\n",
    "            print(\"link creation failed: no cables connected.\")\n",
    "            return\n",
    "        else:\n",
    "            if upper_or_lower == \"lower\":\n",
    "                if remote_node in (self.lower_cable.node1, self.lower_cable.node2):\n",
    "                    self.lower_link = Link()\n",
    "                    self.lower_link.node1 = self\n",
    "                else:\n",
    "                    print(\"not connected to node via lower cable\")\n",
    "                    return\n",
    "            else:\n",
    "                if remote_node in (self.upper_cable.node1, self.upper_cable.node2):\n",
    "                    self.upper_link = Link()\n",
    "                    self.upper_link.node1 = self\n",
    "                else:\n",
    "                    print(\"not connected to node via upper cable\")\n",
    "                    return\n",
    "        # attempt link creation on the next free qubit\n",
    "        self.hardware.attempt_link_creation(remote_node.hardware, upper_or_lower)\n",
    "\n",
    "    # attempt to do entanglement distillation of \n",
    "    # two links with the same repeater.\n",
    "    def attempt_distillation(self, link1, link2):\n",
    "        self.hardware.attempt_distillation()\n",
    "\n",
    "    # this function emits a signal to the link layer (which here takes the form \n",
    "    # of software running on the repeater).\n",
    "    def send_message(self, obj, msg):\n",
    "        obj.handle_message(msg)\n",
    "\n",
    "    # this function receives an emitted signal\n",
    "    def handle_message(self, msg):\n",
    "        print(\"endnode with netId\", str(self.netId), \"received message:\", msg['msg'])\n",
    "        if msg['msg'] == \"quantum internet: Link to remote user created.\":\n",
    "            endnode1 = msg['endnode1']\n",
    "            endnode2 = msg['endnode2']\n",
    "            # print(\"DEBUG: in endnode. Node of created end to end link are\", endnode1, endnode2)\n",
    "            if self.send_flag:\n",
    "                self.teleport_qubit()\n",
    "                self.send_flag = False\n",
    "        elif msg['msg'] == \"child hardware: Teleport done. Handle corrections.\":\n",
    "            # give the measurement results to the quantum internet, \n",
    "            # because I guess the quantum internet still has to do some\n",
    "            # stuff.\n",
    "            msg = {'msg' : \"endnode: Teleport done. Handle corrections.\",\n",
    "                   'measurement_result1' : msg['measurement_result1'],\n",
    "                   'measurement_result2' : msg['measurement_result2'],\n",
    "                   'sender_node' : self,\n",
    "                   'receiver_node' : self.lower_link.node1 if self == self.lower_link.node2 else self.lower_link.node2}\n",
    "            self.send_message(\n",
    "                self.parent_application.quantum_internet,\n",
    "                msg\n",
    "            )\n",
    "            # teleportation uses up the link\n",
    "            self.lower_link = None\n",
    "        elif msg['msg'] == \"quantum internet: Teleport done. Handle corrections.\":\n",
    "            self.hardware.apply_teleport_corrections(msg['measurement_result1'], \n",
    "                                                       msg['measurement_result2'])\n",
    "        elif msg['msg'] == \"child hardware: Teleport corrections applied.\":\n",
    "            # notify the parent application that it has received a qubit\n",
    "            msg = {'msg' : \"child endnode: Qubit received.\"}\n",
    "            # destroy the link with the endnode that sent the qubit\n",
    "            self.lower_link = None\n",
    "            # notify the parent application\n",
    "            self.send_message(self.parent_application, msg)\n",
    "        elif msg['msg'] == \"child hardware: Entanglement swapping corrections applied.\":\n",
    "            return\n",
    "        elif msg['msg'] == \"neighbor repeater: Entanglement swapping done. Handle corrections.\":\n",
    "            self.hardware.apply_swap_corrections(msg['measurement_result1'], \n",
    "                                            msg['measurement_result2'])\n",
    "        elif msg['msg'] == \"child hardware: Received qubit.\":\n",
    "            return\n",
    "        elif msg['msg'] == \"child hardware: Received link qubit.\":\n",
    "            sender = msg['sender']\n",
    "            upper_or_lower = msg['upper_or_lower']\n",
    "            link = msg['link']\n",
    "            link.node2 = self\n",
    "            if upper_or_lower == \"upper\":\n",
    "                self.upper_link = link\n",
    "            else:\n",
    "                self.lower_link = link\n",
    "            # notify the parent repeater chain?\n",
    "            if self.parent_repeater_chain:\n",
    "                msg = {'msg' : \"child endnode: Link created.\",\n",
    "                       'upper_or_lower' : upper_or_lower,\n",
    "                       'link': self.upper_link if upper_or_lower==\"upper\" else self.lower_link\n",
    "                       }\n",
    "                self.send_message(self.parent_repeater_chain, msg)\n",
    "        elif msg['msg'] == \"child hardware: Sent link qubit.\":\n",
    "            return\n",
    "        else:\n",
    "            print(\"endnode received unknown message \\\"\" + msg['msg'] + \"\\\"\")"
   ]
  },
  {
   "cell_type": "markdown",
   "metadata": {},
   "source": [
    "# Tests"
   ]
  },
  {
   "cell_type": "markdown",
   "metadata": {},
   "source": [
    "### Two Endnode objects attempt to create entanglement between themselves"
   ]
  },
  {
   "cell_type": "code",
   "execution_count": 3,
   "metadata": {
    "tags": []
   },
   "outputs": [
    {
     "output_type": "stream",
     "name": "stdout",
     "text": "imported global_state_container module <module 'common.global_state_container.global_state_container' from '..\\\\common\\\\global_state_container\\\\global_state_container.py'>\nimported OpticalFiber object <class '_5_The_Physical_Layer.optical_fiber.optical_fiber.OpticalFiber'>\ncreating new endnode\ncreating endnode hardware\ncreating new qubit\ncreating new qubit in global state\nGUI not on\ncreating new qubit\ncreating new qubit in global state\nGUI not on\ncreating new qubit\ncreating new qubit in global state\nGUI not on\ncreating new endnode\ncreating endnode hardware\ncreating new qubit\ncreating new qubit in global state\nGUI not on\ncreating new qubit\ncreating new qubit in global state\nGUI not on\ncreating new qubit\ncreating new qubit in global state\nGUI not on\n"
    }
   ],
   "source": [
    "from endnode import Endnode\n",
    "from cable import Cable\n",
    "\n",
    "from common.global_state_container import global_state_container\n",
    "\n",
    "global_state_container.init()\n",
    "\n",
    "node1 = Endnode()\n",
    "node2 = Endnode()"
   ]
  },
  {
   "cell_type": "code",
   "execution_count": 4,
   "metadata": {
    "tags": []
   },
   "outputs": [
    {
     "output_type": "stream",
     "name": "stdout",
     "text": "creating new cable\ncreating new optical fiber\ncreating new cable\ncreating new optical fiber\nconnecting lower cable in endnode\nconnecting lower fiber in endnode hardware\nconnecting lower cable in endnode\nconnecting lower fiber in endnode hardware\nconnecting upper cable in endnode\nconnecting upper fiber in endnode hardware\nconnecting upper cable in endnode\nconnecting upper fiber in endnode hardware\n"
    }
   ],
   "source": [
    "a_cable = Cable()\n",
    "another_cable = Cable()\n",
    "\n",
    "node1.connect_cable(a_cable, \"lower\")\n",
    "node2.connect_cable(a_cable, \"lower\")\n",
    "\n",
    "node1.connect_cable(another_cable, \"upper\")\n",
    "node2.connect_cable(another_cable, \"upper\")"
   ]
  },
  {
   "cell_type": "code",
   "execution_count": 5,
   "metadata": {
    "tags": []
   },
   "outputs": [
    {
     "output_type": "stream",
     "name": "stdout",
     "text": "attempting lower link creation in endnode\nattempting link creation in endnode hardware.\ncreating new photon\ncreating new qubit in global state\nGUI not on\nGUI not on\nGUI not on\nendnode hardware receiving photon\nunloading data from photon onto local qubit\nGUI not on\nreceived link qubit in endnode hardware\ndestroying photon with id 6\ndestroying qubit 6 in global state\nGUI not on\nendnode with netId None received message: child hardware: Received link qubit.\nendnode with netId None received message: child hardware: Sent link qubit.\n"
    }
   ],
   "source": [
    "node1.attempt_link_creation(node2, \"lower\")"
   ]
  },
  {
   "cell_type": "code",
   "execution_count": 6,
   "metadata": {
    "tags": []
   },
   "outputs": [
    {
     "output_type": "stream",
     "name": "stdout",
     "text": "attempting upper link creation in endnode\nattempting link creation in endnode hardware.\ncreating new photon\ncreating new qubit in global state\nGUI not on\nGUI not on\nGUI not on\nendnode hardware receiving photon\nunloading data from photon onto local qubit\nGUI not on\nreceived link qubit in endnode hardware\ndestroying photon with id 6\ndestroying qubit 6 in global state\nGUI not on\nendnode with netId None received message: child hardware: Received link qubit.\nendnode with netId None received message: child hardware: Sent link qubit.\n"
    }
   ],
   "source": [
    "node1.attempt_link_creation(node2, \"upper\")"
   ]
  },
  {
   "source": [
    "### Two endnodes attempt to do entanglement distillation"
   ],
   "cell_type": "markdown",
   "metadata": {}
  },
  {
   "cell_type": "code",
   "execution_count": 3,
   "metadata": {
    "tags": []
   },
   "outputs": [
    {
     "output_type": "stream",
     "name": "stdout",
     "text": "We now have two links that we can distill.\n.     --------\n    /          \\\no E              E o\n    \\          /\n      --------\n"
    }
   ],
   "source": [
    "print(\"We now have two links that we can distill.\")\n",
    "print(\".     --------\")\n",
    "print(\"    /          \\\\\")\n",
    "print(\"o E              E o\")\n",
    "print(\"    \\          /\")\n",
    "print(\"      --------\")"
   ]
  },
  {
   "cell_type": "code",
   "execution_count": 8,
   "metadata": {},
   "outputs": [],
   "source": [
    "node1.attempt_distillation(node1.upper_link, node1.lower_link)"
   ]
  },
  {
   "cell_type": "code",
   "execution_count": 9,
   "metadata": {
    "tags": []
   },
   "outputs": [
    {
     "output_type": "stream",
     "name": "stdout",
     "text": "The links are distilled and put in the lower link.\n.             \n                \no E              E o\n    \\          /\n      --------\n"
    }
   ],
   "source": [
    "print(\"The links are distilled and put in the lower link.\")\n",
    "print(\".             \")\n",
    "print(\"                \")\n",
    "print(\"o E              E o\")\n",
    "print(\"    \\          /\")\n",
    "print(\"      --------\")"
   ]
  },
  {
   "cell_type": "code",
   "execution_count": null,
   "metadata": {},
   "outputs": [],
   "source": []
  }
 ],
 "metadata": {
  "kernelspec": {
   "display_name": "Python 3.7.6 64-bit ('base': conda)",
   "language": "python",
   "name": "python_defaultSpec_1599910179476"
  },
  "language_info": {
   "codemirror_mode": {
    "name": "ipython",
    "version": 3
   },
   "file_extension": ".py",
   "mimetype": "text/x-python",
   "name": "python",
   "nbconvert_exporter": "python",
   "pygments_lexer": "ipython3",
   "version": "3.7.6-final"
  }
 },
 "nbformat": 4,
 "nbformat_minor": 4
}