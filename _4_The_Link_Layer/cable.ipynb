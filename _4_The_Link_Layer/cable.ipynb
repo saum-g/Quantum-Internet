{
 "cells": [
  {
   "cell_type": "markdown",
   "metadata": {},
   "source": [
    "`cable` is a link layer level object. Right now it's just a wrapper (in the software sense of the word) around opticalFiber, which is a physical layer object. "
   ]
  },
  {
   "cell_type": "code",
   "execution_count": 3,
   "metadata": {
    "tags": []
   },
   "outputs": [
    {
     "output_type": "stream",
     "name": "stdout",
     "text": "The autoreload extension is already loaded. To reload it, use:\n  %reload_ext autoreload\n"
    }
   ],
   "source": [
    "%load_ext autoreload\n",
    "%autoreload 2"
   ]
  },
  {
   "cell_type": "code",
   "execution_count": 5,
   "metadata": {
    "tags": []
   },
   "outputs": [
    {
     "output_type": "stream",
     "name": "stdout",
     "text": "Overwriting cable.py\n"
    }
   ],
   "source": [
    "%%writefile cable.py\n",
    "import sys\n",
    "\n",
    "sys.path.append(\"..\")\n",
    "from _5_The_Physical_Layer.optical_fiber.optical_fiber import OpticalFiber\n",
    "print(\"imported OpticalFiber object\", OpticalFiber)\n",
    "\n",
    "class Cable(object):\n",
    "    def __init__(self):\n",
    "        print(\"creating new cable\")\n",
    "        self.id = None\n",
    "        # node1 and node2 are repeater objects (link layer)\n",
    "        self.node1 = None\n",
    "        self.node2 = None\n",
    "        self.optical_fiber = OpticalFiber()\n",
    "\n",
    "    def is_connected(self, node):\n",
    "        return node == self.node1 or node == self.node2\n",
    "\n",
    "    def connect_node(self, node):\n",
    "        if self.node1 is None:\n",
    "            self.node1 = node\n",
    "            self.optical_fiber.connect_node_hardware(node.hardware, pos=1)\n",
    "        else:\n",
    "            self.node2 = node\n",
    "            self.optical_fiber.connect_node_hardware(node.hardware, pos=2)"
   ]
  }
 ],
 "metadata": {
  "kernelspec": {
   "display_name": "Python 3.7.6 64-bit ('base': conda)",
   "language": "python",
   "name": "python_defaultSpec_1599900637282"
  },
  "language_info": {
   "codemirror_mode": {
    "name": "ipython",
    "version": 3
   },
   "file_extension": ".py",
   "mimetype": "text/x-python",
   "name": "python",
   "nbconvert_exporter": "python",
   "pygments_lexer": "ipython3",
   "version": "3.7.6-final"
  }
 },
 "nbformat": 4,
 "nbformat_minor": 4
}