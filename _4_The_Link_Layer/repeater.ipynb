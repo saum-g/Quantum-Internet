{
 "cells": [
  {
   "cell_type": "markdown",
   "metadata": {},
   "source": [
    "Repeater (link layer wrapper around the hardware of a repeater). Link layer protocols will be implemented here.\n",
    "\n",
    "Note that the repeater does not see quantum gates, it only knows to which other repeaters it's linked and the fidelities of these links.\n",
    "\n",
    "Swapping is done on the lower links. The upper links are only for distillation"
   ]
  },
  {
   "cell_type": "code",
   "execution_count": 1,
   "metadata": {
    "tags": []
   },
   "outputs": [],
   "source": [
    "%load_ext autoreload\n",
    "%autoreload 2"
   ]
  },
  {
   "cell_type": "code",
   "execution_count": 2,
   "metadata": {
    "tags": []
   },
   "outputs": [
    {
     "output_type": "stream",
     "name": "stdout",
     "text": "Overwriting repeater.py\n"
    }
   ],
   "source": [
    "%%writefile repeater.py\n",
    "import sys\n",
    "\n",
    "sys.path.append(\"..\")\n",
    "from _5_The_Physical_Layer.node_hardware.repeater_hardware import RepeaterHardware\n",
    "from _4_The_Link_Layer.link import Link\n",
    "\n",
    "class Repeater(object):\n",
    "    def __init__(self, parent_repeater_chain, n=1):\n",
    "        print(\"creating new repeater\")\n",
    "        self.netId = None\n",
    "        self.parent_repeater_chain = parent_repeater_chain\n",
    "        self.hardware = RepeaterHardware(self)\n",
    "        self.left_upper_link = None\n",
    "        self.left_lower_link = None\n",
    "        self.right_upper_link = None\n",
    "        self.right_lower_link = None\n",
    "        self.left_upper_cable = None\n",
    "        self.left_lower_cable = None\n",
    "        self.right_upper_cable = None\n",
    "        self.right_lower_cable = None\n",
    "\n",
    "    def connect_right_cable(self, cable, upper_or_lower=\"lower\"):\n",
    "        print(\"connecting \" + upper_or_lower + \" right cable in repeater\")\n",
    "        if upper_or_lower == \"upper\":\n",
    "            self.right_upper_cable = cable\n",
    "        else:\n",
    "            self.right_lower_cable = cable\n",
    "        self.hardware.connect_right_fiber(cable.optical_fiber, upper_or_lower)\n",
    "        cable.connect_node(self)\n",
    "        \n",
    "    def connect_left_cable(self, cable, upper_or_lower=\"lower\"):\n",
    "        print(\"connecting \" + upper_or_lower + \" left cable in repeater\")\n",
    "        if upper_or_lower == \"upper\":\n",
    "            self.left_upper_cable = cable\n",
    "        else:\n",
    "            self.left_lower_cable = cable\n",
    "        self.hardware.connect_left_fiber(cable.optical_fiber, upper_or_lower)\n",
    "        cable.connect_node(self)\n",
    "    \n",
    "    def attempt_swap(self, left_link, right_link):\n",
    "        print(\"repeater\", self , \": Attempting swap.\")\n",
    "        if left_link == None:\n",
    "            print(\"repeater\", self , \": Swap failed. Left link missing.\")\n",
    "            return\n",
    "        if right_link == None:\n",
    "            print(\"repeater\", self , \": Swap failed. Right link missing.\")\n",
    "            return    \n",
    "        self.hardware.swap_entanglement()\n",
    "\n",
    "    # attempt to create link with another node\n",
    "    def attempt_link_creation(self, remote_node, upper_or_lower=\"lower\"):\n",
    "        print(\"attempting \" + upper_or_lower + \" link creation in repeater\")\n",
    "        # prepare a link layer Link object.\n",
    "        if self.left_lower_cable and self.left_lower_cable.is_connected(remote_node):\n",
    "            side = \"left\"\n",
    "        elif self.left_upper_cable and self.left_upper_cable.is_connected(remote_node):\n",
    "            side = \"left\"\n",
    "        elif self.right_lower_cable and self.right_lower_cable.is_connected(remote_node):\n",
    "            side = \"right\"\n",
    "        elif self.right_upper_cable and self.right_upper_cable.is_connected(remote_node):\n",
    "            side = \"right\"\n",
    "        else:\n",
    "            print(\"not connected to remote node\")\n",
    "            return\n",
    "        if side == \"left\":\n",
    "            if upper_or_lower == \"upper\":\n",
    "                self.left_upper_link = Link()\n",
    "                self.left_upper_link.node1 = self\n",
    "            else:\n",
    "                self.left_lower_link = Link()\n",
    "                self.left_lower_link.node1 = self\n",
    "        else:\n",
    "            if upper_or_lower == \"upper\":\n",
    "                self.right_upper_link = Link()\n",
    "                self.right_upper_link.node1 = self\n",
    "            else:\n",
    "                self.right_lower_link = Link()\n",
    "                self.right_lower_link.node1 = self\n",
    "        # ask the hardware to attempt link creation\n",
    "        self.hardware.attempt_link_creation(remote_node.hardware, upper_or_lower)\n",
    "\n",
    "    # attempt to do entanglement distillation of \n",
    "    # two links with the same repeater.\n",
    "    def attempt_distillation(self, link1, link2):\n",
    "        self.hardware.attempt_distillation()\n",
    "\n",
    "    def handle_swap_success(self):\n",
    "        # create new link between edge nodes and discard used up links\n",
    "        # print(\"debug:\", self.left_link, self.right_link)\n",
    "        left_lower_edge_node = self.left_lower_link.node1 if self.left_lower_link.node1 != self else self.left_lower_link.node2\n",
    "        right_lower_edge_node = self.right_lower_link.node1 if self.right_lower_link.node1 != self else self.right_lower_link.node2\n",
    "        new_link = Link()\n",
    "        new_link.node1 = left_lower_edge_node\n",
    "        new_link.node2 = right_lower_edge_node\n",
    "        # new_link.fidelity = ...\n",
    "        # print(\"debug: \", left_edge_node, right_edge_node)\n",
    "        if type(left_lower_edge_node).__name__ == \"Endnode\":\n",
    "            left_lower_edge_node.lower_link = new_link\n",
    "        else:\n",
    "            left_lower_edge_node.right_lower_link = Link()\n",
    "        if type(right_lower_edge_node).__name__ == \"Endnode\":\n",
    "            right_lower_edge_node.lower_link = new_link\n",
    "        else:\n",
    "            right_lower_edge_node.left_lower_link = new_link\n",
    "        # destroy links involved in swap\n",
    "        self.left_lower_link = None\n",
    "        self.right_lower_link = None\n",
    "        #notify parent repeater chain (network layer)\n",
    "        msg = {'msg' : \"repeater: Swap complete.\",\n",
    "               'node1': left_lower_edge_node,\n",
    "               'node2': right_lower_edge_node}\n",
    "        self.send_message(self.parent_repeater_chain, msg)\n",
    "\n",
    "\n",
    "    # this function emits a signal to the link layer (which here takes the form \n",
    "    # of software running on the repeater).\n",
    "    def send_message(self, obj, msg):\n",
    "        obj.handle_message(msg)\n",
    "\n",
    "    # this function receives an emitted signal\n",
    "    def handle_message(self, msg):\n",
    "        print(\"repeater with netId\", str(self.netId), \"received message:\", msg['msg'])\n",
    "        if msg['msg'] == \"child hardware: Entanglement swapping done. Handle corrections.\":\n",
    "            # update connections table\n",
    "            self.handle_swap_success() # you're still not handling corrections.\n",
    "            # retitle the message and forward it.\n",
    "            # Note that the msg contains two measurement results.\n",
    "            msg['msg'] = \"neighbor repeater: Entanglement swapping done. Handle corrections.\"\n",
    "            msg['sender'] = self\n",
    "            remote_repeater = self.right_lower_cable.node1 if self.right_lower_cable.node1 != self else self.right_lower_cable.node2\n",
    "            self.send_message(remote_repeater, msg)\n",
    "        elif msg['msg'] == \"neighbor repeater: Entanglement swapping done. Handle corrections.\":\n",
    "            measurement_result1 = msg['measurement_result1']\n",
    "            measurement_result2 = msg['measurement_result2']\n",
    "            sender = msg['sender']\n",
    "            # assume we have received the qubit already.\n",
    "            # ask the repeaterHardware to apply corrections.\n",
    "            side = \"left\" if sender in (self.left_lower_cable.node1, self.left_lower_cable.node2) else \"right\"\n",
    "            self.hardware.apply_swap_corrections(side,\n",
    "                                                       measurement_result1, \n",
    "                                                       measurement_result2)\n",
    "        elif msg['msg'] == \"child hardware: Entanglement swapping corrections applied.\":\n",
    "            # update connections table\n",
    "#             self.handle_swap_success(..., ...)\n",
    "            return\n",
    "        elif msg['msg'] == \"child hardware: Received qubit.\":\n",
    "            return\n",
    "        elif msg['msg'] == \"child hardware: Received link qubit.\":\n",
    "            sender = msg['sender']\n",
    "            side = msg['side']\n",
    "            upper_or_lower = msg['upper_or_lower']\n",
    "            link = msg['link']\n",
    "            link.node2 = self\n",
    "            if side == \"left\":\n",
    "                if upper_or_lower == \"upper\":\n",
    "                    self.left_upper_link = link\n",
    "                else:\n",
    "                    self.left_lower_link = link\n",
    "            else:\n",
    "                if upper_or_lower == \"upper\":\n",
    "                    self.right_upper_link = link\n",
    "                else:\n",
    "                    self.right_lower_link = link\n",
    "            # notify the parent repeater chain\n",
    "            if self.parent_repeater_chain:\n",
    "                msg = {'msg' : \"child repeater: Link created.\",\n",
    "                       'link': link,\n",
    "                       'side': side,\n",
    "                       'upper_or_lower' : upper_or_lower}\n",
    "                self.send_message(self.parent_repeater_chain, msg)\n",
    "        elif msg['msg'] == \"child hardware: Sent link qubit.\":\n",
    "            return\n",
    "        else:\n",
    "            print(\"repeater received unknown message \\\"\" + msg['msg'] + \"\\\"\")"
   ]
  },
  {
   "cell_type": "markdown",
   "metadata": {},
   "source": [
    "# Tests"
   ]
  },
  {
   "cell_type": "markdown",
   "metadata": {},
   "source": [
    "### Two Repeater objects attempt to create entanglement between themselves"
   ]
  },
  {
   "cell_type": "code",
   "execution_count": 3,
   "metadata": {
    "tags": []
   },
   "outputs": [
    {
     "output_type": "stream",
     "name": "stdout",
     "text": "imported global_state_container module <module 'common.global_state_container.global_state_container' from '..\\\\common\\\\global_state_container\\\\global_state_container.py'>\nimported OpticalFiber object <class '_5_The_Physical_Layer.optical_fiber.optical_fiber.OpticalFiber'>\ncreating new repeater\ncreating new repeater hardware\ncreating new qubit\ncreating new qubit in global state\nGUI not on\ncreating new qubit\ncreating new qubit in global state\nGUI not on\ncreating new qubit\ncreating new qubit in global state\nGUI not on\ncreating new qubit\ncreating new qubit in global state\nGUI not on\ncreating new repeater\ncreating new repeater hardware\ncreating new qubit\ncreating new qubit in global state\nGUI not on\ncreating new qubit\ncreating new qubit in global state\nGUI not on\ncreating new qubit\ncreating new qubit in global state\nGUI not on\ncreating new qubit\ncreating new qubit in global state\nGUI not on\n"
    }
   ],
   "source": [
    "from repeater import Repeater\n",
    "from cable import Cable\n",
    "\n",
    "from common.global_state_container import global_state_container\n",
    "\n",
    "global_state_container.init()\n",
    "\n",
    "node1 = Repeater(parent_repeater_chain=None)\n",
    "node2 = Repeater(parent_repeater_chain=None)"
   ]
  },
  {
   "cell_type": "code",
   "execution_count": 4,
   "metadata": {
    "tags": []
   },
   "outputs": [
    {
     "output_type": "stream",
     "name": "stdout",
     "text": "creating new cable\ncreating new optical fiber\ncreating new cable\ncreating new optical fiber\nconnecting lower right cable in repeater\nconnecting lower right optical fiber in repeater hardware\nconnecting lower left cable in repeater\nconnecting lower left optical fiber in repeater hardware\nconnecting upper right cable in repeater\nconnecting upper right optical fiber in repeater hardware\nconnecting upper left cable in repeater\nconnecting upper left optical fiber in repeater hardware\n"
    }
   ],
   "source": [
    "lower_cable = Cable()\n",
    "upper_cable = Cable()\n",
    "\n",
    "node1.connect_right_cable(lower_cable, \"lower\")\n",
    "node2.connect_left_cable(lower_cable, \"lower\")\n",
    "\n",
    "node1.connect_right_cable(upper_cable, \"upper\")\n",
    "node2.connect_left_cable(upper_cable, \"upper\")"
   ]
  },
  {
   "cell_type": "code",
   "execution_count": 5,
   "metadata": {},
   "outputs": [
    {
     "output_type": "execute_result",
     "data": {
      "text/plain": "<cable.Cable at 0x2372af429c8>"
     },
     "metadata": {},
     "execution_count": 5
    }
   ],
   "source": [
    "node2.left_lower_cable"
   ]
  },
  {
   "cell_type": "code",
   "execution_count": 6,
   "metadata": {
    "tags": []
   },
   "outputs": [
    {
     "output_type": "stream",
     "name": "stdout",
     "text": "attempting lower link creation in repeater\nattempting link creation in repeater hardware\ncreating new photon\ncreating new qubit in global state\nGUI not on\nGUI not on\nGUI not on\nrepeater hardware receiving photon\nunloading data from photon onto local qubit\nGUI not on\ndestroying photon with id 8\ndestroying qubit 8 in global state\nGUI not on\nrepeater with netId None received message: child hardware: Received link qubit.\nrepeater with netId None received message: child hardware: Sent link qubit.\n"
    }
   ],
   "source": [
    "node1.attempt_link_creation(node2, \"lower\")"
   ]
  },
  {
   "cell_type": "code",
   "execution_count": 7,
   "metadata": {
    "tags": []
   },
   "outputs": [
    {
     "output_type": "stream",
     "name": "stdout",
     "text": "attempting upper link creation in repeater\nattempting link creation in repeater hardware\ncreating new photon\ncreating new qubit in global state\nGUI not on\nGUI not on\nGUI not on\nrepeater hardware receiving photon\nunloading data from photon onto local qubit\nGUI not on\ndestroying photon with id 8\ndestroying qubit 8 in global state\nGUI not on\nrepeater with netId None received message: child hardware: Received link qubit.\nrepeater with netId None received message: child hardware: Sent link qubit.\n"
    }
   ],
   "source": [
    "node1.attempt_link_creation(node2, \"upper\")"
   ]
  },
  {
   "source": [
    "### Two repeaters attempt to do entanglement distillation"
   ],
   "cell_type": "markdown",
   "metadata": {}
  },
  {
   "cell_type": "code",
   "execution_count": 16,
   "metadata": {
    "tags": []
   },
   "outputs": [
    {
     "output_type": "stream",
     "name": "stdout",
     "text": "We now have two links that we can distill.\n.      --------\n     /          \\   \n   R              R  \n     \\          /   \n       --------\n"
    }
   ],
   "source": [
    "print(\"We now have two links that we can distill.\")\n",
    "print(\".      --------\")\n",
    "print(\"     /          \\\\   \")\n",
    "print(\"   R              R  \")\n",
    "print(\"     \\\\          /   \")\n",
    "print(\"       --------\")"
   ]
  },
  {
   "cell_type": "code",
   "execution_count": 14,
   "metadata": {},
   "outputs": [],
   "source": [
    "node1.attempt_distillation(node1.right_upper_link, node1.right_lower_link)"
   ]
  },
  {
   "cell_type": "code",
   "execution_count": 19,
   "metadata": {
    "tags": []
   },
   "outputs": [
    {
     "output_type": "stream",
     "name": "stdout",
     "text": "The links are distilled and put in the lower link.\n.              \n                     \n   R              R  \n     \\          /   \n       --------\n"
    }
   ],
   "source": [
    "print(\"The links are distilled and put in the lower link.\")\n",
    "print(\".              \")\n",
    "print(\"                     \")\n",
    "print(\"   R              R  \")\n",
    "print(\"     \\\\          /   \")\n",
    "print(\"       --------\")"
   ]
  },
  {
   "cell_type": "code",
   "execution_count": null,
   "metadata": {},
   "outputs": [],
   "source": []
  }
 ],
 "metadata": {
  "kernelspec": {
   "display_name": "Python 3.7.6 64-bit ('base': conda)",
   "language": "python",
   "name": "python_defaultSpec_1599910148750"
  },
  "language_info": {
   "codemirror_mode": {
    "name": "ipython",
    "version": 3
   },
   "file_extension": ".py",
   "mimetype": "text/x-python",
   "name": "python",
   "nbconvert_exporter": "python",
   "pygments_lexer": "ipython3",
   "version": "3.7.6-final"
  }
 },
 "nbformat": 4,
 "nbformat_minor": 2
}