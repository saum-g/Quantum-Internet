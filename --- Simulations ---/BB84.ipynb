{
 "cells": [
  {
   "cell_type": "code",
   "execution_count": 244,
   "metadata": {
    "tags": []
   },
   "outputs": [
    {
     "output_type": "stream",
     "name": "stdout",
     "text": "The autoreload extension is already loaded. To reload it, use:\n  %reload_ext autoreload\n"
    }
   ],
   "source": [
    "%load_ext autoreload\n",
    "%autoreload 2"
   ]
  },
  {
   "cell_type": "code",
   "execution_count": 245,
   "metadata": {
    "tags": []
   },
   "outputs": [
    {
     "output_type": "stream",
     "name": "stdout",
     "text": "creating quantum internet\ncreating new repeater chain\ncreating new repeater\ncreating new repeater hardware\ncreating new qubit\ncreating new qubit in global state\nGUI not on\ncreating new qubit\ncreating new qubit in global state\nGUI not on\ncreating new qubit\ncreating new qubit in global state\nGUI not on\ncreating new qubit\ncreating new qubit in global state\nGUI not on\nrepeater is not wired to network\nassigned net id None\n"
    }
   ],
   "source": [
    "import sys\n",
    "\n",
    "sys.path.append(\"..\")\n",
    "# from common.GUI.GUI import GUI\n",
    "from _2_The_Transport_Layer.quantum_internet import QuantumInternet\n",
    "from _1_The_Applications_Layer.BB84 import BB84\n",
    "\n",
    "# Humans build a quantum internet. It is a linear chain of 1 repeater\n",
    "# and it supports only two end users.\n",
    "qInternet = QuantumInternet(length=1)"
   ]
  },
  {
   "cell_type": "code",
   "execution_count": 246,
   "metadata": {
    "tags": []
   },
   "outputs": [
    {
     "output_type": "stream",
     "name": "stdout",
     "text": "creating new application\ncreating new endnode\ncreating endnode hardware\ncreating new qubit\ncreating new qubit in global state\nGUI not on\ncreating new qubit\ncreating new qubit in global state\nGUI not on\ncreating new qubit\ncreating new qubit in global state\nGUI not on\nconnecting application (endnode) to quantum internet\nconnecting endnode to repeater chain\ncreating new cable\ncreating new optical fiber\ncreating new cable\ncreating new optical fiber\nconnecting upper cable in endnode\nconnecting upper fiber in endnode hardware\nconnecting lower cable in endnode\nconnecting lower fiber in endnode hardware\nconnecting upper left cable in repeater\nconnecting upper left optical fiber in repeater hardware\nconnecting lower left cable in repeater\nconnecting lower left optical fiber in repeater hardware\nassigned net id 0\nnew user added to user table: {'Alice': <_1_The_Applications_Layer.BB84.BB84 object at 0x00000145095CDBC8>}\n"
    }
   ],
   "source": [
    "# Alice, an eminent cryptologist at Star Fleet academy, has acquired\n",
    "# one of the new and popular BB84 machines. A BB84 machine allows any\n",
    "# two users to perform BB84 key exchange over the quantum internet\n",
    "# that humans have just built. \n",
    "# Alice starts her machine, then connects it to the quantum internet cable coming\n",
    "# out of her wall.\n",
    "BB84Alice = BB84(username = \"Alice\")\n",
    "qInternet.connect(BB84Alice)\n",
    "\n",
    "#               _,,,_\n",
    "#             .'     `'.\n",
    "#            /     ____ \\\n",
    "#           |    .'_  _\\/\n",
    "#           /    ) a  a|         .----.\n",
    "#          /    (    > |        /|     '--.\n",
    "#         (      ) ._  /        ||    ]|   `-.\n",
    "#         )    _/-.__.'`\\       ||    ]|    ::|\n",
    "#        (  .-'`-.   \\__ )      ||    ]|    ::|\n",
    "#         `/      `-./  `.      ||    ]|    ::|\n",
    "#        _ |    \\      \\  \\     \\|    ]|   .-'\n",
    "#       / \\|     \\   \\  \\  \\     L.__  .--'(\n",
    "#      |   |\\     `. /  /   \\  ,---|_      \\---------,\n",
    "#      |   `\\'.     '. /`\\   \\/ .--._|=-    |_      /|\n",
    "#      |     \\ '.     '._ './`\\/ .-'          '.   / |\n",
    "#      |     |   `'.     `;-:-;`)|             |-./  |\n",
    "#      |    /_      `'--./_  ` )/'-------------')/)  |\n",
    "#      \\   | `\"\"\"\"----\"`\\//`\"\"`/,===..'`````````/ (  |\n",
    "#       |  |            / `---` `==='          /   ) |\n",
    "#       /  \\           /                      /   (  |\n",
    "#      |    '------.  |'--------------------'|     ) |\n",
    "#       \\           `-|                      |    /  |\n",
    "#        `--...,______|                      |   (   |\n",
    "#               | |   |                      |    ) ,|\n",
    "#               | |   |                      |   ( /||\n",
    "#               | |   |                      |   )/ `\"\n",
    "#              /   \\  |                      |  (/\n",
    "#        jgs .' /I\\ '.|                      |  /)\n",
    "#         .-'_.'/ \\'. |                      | /\n",
    "#         ```  `\"\"\"` `| .-------------------.||\n",
    "#                     `\"`                   `\"`"
   ]
  },
  {
   "cell_type": "code",
   "execution_count": 247,
   "metadata": {
    "tags": []
   },
   "outputs": [
    {
     "output_type": "stream",
     "name": "stdout",
     "text": "creating new application\ncreating new endnode\ncreating endnode hardware\ncreating new qubit\ncreating new qubit in global state\nGUI not on\ncreating new qubit\ncreating new qubit in global state\nGUI not on\ncreating new qubit\ncreating new qubit in global state\nGUI not on\nconnecting application (endnode) to quantum internet\nconnecting endnode to repeater chain\ncreating new cable\ncreating new optical fiber\ncreating new cable\ncreating new optical fiber\nconnecting upper cable in endnode\nconnecting upper fiber in endnode hardware\nconnecting lower cable in endnode\nconnecting lower fiber in endnode hardware\nconnecting upper right cable in repeater\nconnecting upper right optical fiber in repeater hardware\nconnecting lower right cable in repeater\nconnecting lower right optical fiber in repeater hardware\nassigned net id 2\nnew user added to user table: {'Alice': <_1_The_Applications_Layer.BB84.BB84 object at 0x00000145095CDBC8>, 'Bob': <_1_The_Applications_Layer.BB84.BB84 object at 0x000001450950CE08>}\n"
    }
   ],
   "source": [
    "# Bob, Alice's half-Vulcan half-brother, lives four federation cities away \n",
    "# from Alice. He bought the BB84 machine because Alice really wanted \n",
    "# to try it and he felt it would be a good opportunity for them to do \n",
    "# something fun together.\n",
    "# Bob starts his machine, then connects it to the quantum internet \n",
    "# cable in his wall.\n",
    "BB84Bob = BB84(username = \"Bob\")\n",
    "qInternet.connect(BB84Bob)\n",
    "\n",
    "#               :                                 :       \n",
    "#             :                                   :       \n",
    "#             :  RRVIttIti+==iiii++iii++=;:,       :      \n",
    "#             : IBMMMMWWWWMMMMMBXXVVYYIi=;:,        :     \n",
    "#             : tBBMMMWWWMMMMMMBXXXVYIti;;;:,,      :     \n",
    "#             t YXIXBMMWMMBMBBRXVIi+==;::;::::       ,    \n",
    "#            ;t IVYt+=+iIIVMBYi=:,,,=i+=;:::::,      ;;   \n",
    "#            YX=YVIt+=,,:=VWBt;::::=,,:::;;;:;:     ;;;   \n",
    "#            VMiXRttItIVRBBWRi:.tXXVVYItiIi==;:   ;;;;    \n",
    "#            =XIBWMMMBBBMRMBXi;,tXXRRXXXVYYt+;;: ;;;;;    \n",
    "#             =iBWWMMBBMBBWBY;;;,YXRRRRXXVIi;;;:;,;;;=    \n",
    "#              iXMMMMMWWBMWMY+;=+IXRRXXVYIi;:;;:,,;;=     \n",
    "#              iBRBBMMMMYYXV+:,:;+XRXXVIt+;;:;++::;;;     \n",
    "#              =MRRRBMMBBYtt;::::;+VXVIi=;;;:;=+;;;;=     \n",
    "#               XBRBBBBBMMBRRVItttYYYYt=;;;;;;==:;=       \n",
    "#                VRRRRRBRRRRXRVYYIttiti=::;:::=;=         \n",
    "#                 YRRRRXXVIIYIiitt+++ii=:;:::;==          \n",
    "#                 +XRRXIIIIYVVI;i+=;=tt=;::::;:;          \n",
    "#                  tRRXXVYti++==;;;=iYt;:::::,;;          \n",
    "#                   IXRRXVVVVYYItiitIIi=:::;,::;          \n",
    "#                    tVXRRRBBRXVYYYIti;::::,::::          \n",
    "#                     YVYVYYYYYItti+=:,,,,,:::::;         \n",
    "#                     YRVI+==;;;;;:,,,,,,,:::::::"
   ]
  },
  {
   "cell_type": "code",
   "execution_count": 250,
   "metadata": {
    "tags": []
   },
   "outputs": [
    {
     "output_type": "stream",
     "name": "stdout",
     "text": "loading |+> state on memory qubit in endnode hardware\nGUI not on\nrequesting link in quantum internet\nhandling link request in repeater chain\ninitiating link creation using protocol example protocol 1\nattempting lower link creation in endnode\nattempting link creation in endnode hardware.\ncreating new photon\ncreating new qubit in global state\nGUI not on\nGUI not on\nGUI not on\nrepeater hardware receiving photon\nunloading data from photon onto local qubit\nGUI not on\nrepeater with netId None received message: child hardware: Received link qubit.\nrepeater chain received message: child repeater: Link created.\nrepeater chain received unknown message \"child repeater: Link created.\"\ndestroying photon with id 10\ndestroying qubit 10 in global state\nGUI not on\nendnode with netId 0 received message: child hardware: Sent link qubit.\nattempting lower link creation in endnode\nattempting link creation in endnode hardware.\ncreating new photon\ncreating new qubit in global state\nGUI not on\nGUI not on\nGUI not on\nrepeater hardware receiving photon\nunloading data from photon onto local qubit\nGUI not on\nrepeater with netId None received message: child hardware: Received link qubit.\nrepeater chain received message: child repeater: Link created.\nrepeater chain received unknown message \"child repeater: Link created.\"\ndestroying photon with id 10\ndestroying qubit 10 in global state\nGUI not on\nendnode with netId 2 received message: child hardware: Sent link qubit.\nrepeater <_4_The_Link_Layer.repeater.Repeater object at 0x000001450950CD88> : Attempting swap.\nswapping entanglement in repeater hardware\nGUI not on\nmeasuring qubit in repeater hardware\nGUI not on\nmeasuring qubit in repeater hardware\nGUI not on\nrepeater with netId None received message: child hardware: Entanglement swapping done. Handle corrections.\nrepeater chain received message: repeater: Swap complete.\nquantum internet received message: network layer: Link to remote endnode created.\nendnode with netId 0 received message: quantum internet: Link to remote user created.\nteleporting qubit in endnode hardware.\nGUI not on\nmeasuring qubit in endnode hardware\nGUI not on\nmeasuring qubit in endnode hardware\nGUI not on\nendnode with netId 0 received message: child hardware: Teleport done. Handle corrections.\nquantum internet received message: endnode: Teleport done. Handle corrections.\nendnode with netId 2 received message: quantum internet: Teleport done. Handle corrections.\napplying teleport corrections in endnode hardware.\nendnode with netId 2 received message: child hardware: Teleport corrections applied.\napplication received message\napplication received qubit with state Quantum object: dims = [[2], [2]], shape = (2, 2), type = oper, isherm = True\nQobj data =\n[[0.03922927+0.j         0.01761294+0.19333939j]\n [0.01761294-0.19333939j 0.96077073+0.j        ]]\nendnode with netId 2 received message: quantum internet: Link to remote user created.\nendnode with netId 2 received message: neighbor repeater: Entanglement swapping done. Handle corrections.\napplying swap corrections in endnode hardware\nGUI not on\nendnode with netId 2 received message: child hardware: Entanglement swapping corrections applied.\n"
    }
   ],
   "source": [
    "# * Alice and Bob on the phone *\n",
    "# Alice: looks like everything's connected. Let's\n",
    "# start with a little test. Let me try to send you \n",
    "# a qubit. I am going to send you the |0> state.\n",
    "BB84Alice.endnode.hardware.load_plus_on_memory_qubit()\n",
    "BB84Alice.send_qubit(\"Bob\")"
   ]
  },
  {
   "cell_type": "code",
   "execution_count": 190,
   "metadata": {
    "tags": []
   },
   "outputs": [],
   "source": [
    "qInternet.repeater_chain.repeaters[0].left_lower_link"
   ]
  },
  {
   "cell_type": "code",
   "execution_count": 191,
   "metadata": {},
   "outputs": [],
   "source": [
    "qInternet.repeater_chain.repeaters[0].right_lower_link"
   ]
  },
  {
   "cell_type": "code",
   "execution_count": 195,
   "metadata": {},
   "outputs": [],
   "source": [
    "BB84Alice.endnode.lower_link"
   ]
  },
  {
   "cell_type": "code",
   "execution_count": 196,
   "metadata": {},
   "outputs": [
    {
     "output_type": "execute_result",
     "data": {
      "text/plain": "<_4_The_Link_Layer.link.Link at 0x145098a3708>"
     },
     "metadata": {},
     "execution_count": 196
    }
   ],
   "source": [
    "BB84Bob.endnode.lower_link"
   ]
  },
  {
   "cell_type": "code",
   "execution_count": 184,
   "metadata": {},
   "outputs": [
    {
     "output_type": "error",
     "ename": "NameError",
     "evalue": "name 'prekey_bits' is not defined",
     "traceback": [
      "\u001b[1;31m---------------------------------------------------------------------------\u001b[0m",
      "\u001b[1;31mNameError\u001b[0m                                 Traceback (most recent call last)",
      "\u001b[1;32m<ipython-input-184-6efcee4cb680>\u001b[0m in \u001b[0;36m<module>\u001b[1;34m\u001b[0m\n\u001b[0;32m      2\u001b[0m \u001b[1;31m# Bob: I am ready, as well.\u001b[0m\u001b[1;33m\u001b[0m\u001b[1;33m\u001b[0m\u001b[1;33m\u001b[0m\u001b[0m\n\u001b[0;32m      3\u001b[0m \u001b[1;31m# Alice: I am going to initiate the key exchange ... now!\u001b[0m\u001b[1;33m\u001b[0m\u001b[1;33m\u001b[0m\u001b[1;33m\u001b[0m\u001b[0m\n\u001b[1;32m----> 4\u001b[1;33m \u001b[0mBB84Alice\u001b[0m\u001b[1;33m.\u001b[0m\u001b[0minitiate_key_exchange\u001b[0m\u001b[1;33m(\u001b[0m\u001b[1;34m\"Bob\"\u001b[0m\u001b[1;33m)\u001b[0m\u001b[1;33m\u001b[0m\u001b[1;33m\u001b[0m\u001b[0m\n\u001b[0m",
      "\u001b[1;32mc:\\Users\\basse\\Documents\\GitHub\\Quantum-Internet\\_1_The_Applications_Layer\\BB84.py\u001b[0m in \u001b[0;36minitiate_key_exchange\u001b[1;34m(self, remote_user, n)\u001b[0m\n\u001b[0;32m     45\u001b[0m         \u001b[0mself\u001b[0m\u001b[1;33m.\u001b[0m\u001b[0mbasis_bits\u001b[0m \u001b[1;33m=\u001b[0m \u001b[0mself\u001b[0m\u001b[1;33m.\u001b[0m\u001b[0mrandomBits\u001b[0m\u001b[1;33m(\u001b[0m\u001b[0mn\u001b[0m\u001b[1;33m)\u001b[0m\u001b[1;33m\u001b[0m\u001b[1;33m\u001b[0m\u001b[0m\n\u001b[0;32m     46\u001b[0m         \u001b[0mself\u001b[0m\u001b[1;33m.\u001b[0m\u001b[0mprekey_bits\u001b[0m \u001b[1;33m=\u001b[0m \u001b[0mself\u001b[0m\u001b[1;33m.\u001b[0m\u001b[0mrandomBits\u001b[0m\u001b[1;33m(\u001b[0m\u001b[0mn\u001b[0m\u001b[1;33m)\u001b[0m\u001b[1;33m\u001b[0m\u001b[1;33m\u001b[0m\u001b[0m\n\u001b[1;32m---> 47\u001b[1;33m         \u001b[1;32mfor\u001b[0m \u001b[1;33m(\u001b[0m\u001b[0mprekey\u001b[0m\u001b[1;33m,\u001b[0m\u001b[0mbasis\u001b[0m\u001b[1;33m)\u001b[0m \u001b[1;32min\u001b[0m \u001b[0mzip\u001b[0m\u001b[1;33m(\u001b[0m\u001b[0mprekey_bits\u001b[0m\u001b[1;33m,\u001b[0m\u001b[0mbasis_bits\u001b[0m\u001b[1;33m)\u001b[0m\u001b[1;33m:\u001b[0m\u001b[1;33m\u001b[0m\u001b[1;33m\u001b[0m\u001b[0m\n\u001b[0m\u001b[0;32m     48\u001b[0m             \u001b[1;32mif\u001b[0m \u001b[0mbasis\u001b[0m \u001b[1;33m==\u001b[0m \u001b[1;36m0\u001b[0m\u001b[1;33m:\u001b[0m\u001b[1;33m\u001b[0m\u001b[1;33m\u001b[0m\u001b[0m\n\u001b[0;32m     49\u001b[0m                 \u001b[0mself\u001b[0m\u001b[1;33m.\u001b[0m\u001b[0msend_qubit\u001b[0m\u001b[1;33m(\u001b[0m\u001b[0mbasis\u001b[0m\u001b[1;33m(\u001b[0m\u001b[1;36m2\u001b[0m\u001b[1;33m,\u001b[0m\u001b[0mprekey\u001b[0m\u001b[1;33m)\u001b[0m\u001b[1;33m,\u001b[0m \u001b[0mremote_user\u001b[0m\u001b[1;33m)\u001b[0m\u001b[1;33m\u001b[0m\u001b[1;33m\u001b[0m\u001b[0m\n",
      "\u001b[1;31mNameError\u001b[0m: name 'prekey_bits' is not defined"
     ]
    }
   ],
   "source": [
    "# Alice: Ok, ready!\n",
    "# Bob: I am ready, as well.\n",
    "# Alice: I am going to initiate the key exchange ... now!\n",
    "BB84Alice.initiate_key_exchange(\"Bob\")"
   ]
  },
  {
   "cell_type": "code",
   "execution_count": null,
   "metadata": {},
   "outputs": [],
   "source": []
  }
 ],
 "metadata": {
  "kernelspec": {
   "display_name": "Python 3.7.6 64-bit ('base': conda)",
   "language": "python",
   "name": "python_defaultSpec_1599724280222"
  },
  "language_info": {
   "codemirror_mode": {
    "name": "ipython",
    "version": 3
   },
   "file_extension": ".py",
   "mimetype": "text/x-python",
   "name": "python",
   "nbconvert_exporter": "python",
   "pygments_lexer": "ipython3",
   "version": "3.7.6-final"
  }
 },
 "nbformat": 4,
 "nbformat_minor": 2
}