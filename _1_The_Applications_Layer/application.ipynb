{
 "cells": [
  {
   "cell_type": "markdown",
   "metadata": {},
   "source": [
    "An application has access to a quantum internet object.\n",
    "\n",
    "The application can ask the quantum internet for a link with a given user with given specs, like fidelity.\n",
    "\n",
    "endnode is the node the application is running on"
   ]
  },
  {
   "cell_type": "code",
   "execution_count": 1,
   "metadata": {},
   "outputs": [],
   "source": [
    "%load_ext autoreload\n",
    "%autoreload 2"
   ]
  },
  {
   "cell_type": "code",
   "execution_count": 1,
   "metadata": {
    "tags": []
   },
   "outputs": [
    {
     "output_type": "stream",
     "name": "stdout",
     "text": "Overwriting application.py\n"
    }
   ],
   "source": [
    "%%writefile application.py\n",
    "import sys\n",
    "\n",
    "sys.path.append(\"..\")\n",
    "from _4_The_Link_Layer.endnode import Endnode\n",
    "\n",
    "from common.global_state_container import global_state_container\n",
    "\n",
    "class Application(object): # this code runs on the user's PQC (personal quantum computer)\n",
    "    def __init__(self, username = None):\n",
    "        print(\"creating new application\")\n",
    "        self.quantum_internet = None\n",
    "        self.username = username\n",
    "        self.endnode = Endnode()\n",
    "        self.endnode.parent_application = self\n",
    "\n",
    "    def send_qubit(self, remote_user): # qubit here is the local Qubit object on EndnodeHardware.\n",
    "        if self.quantum_internet:\n",
    "            self.endnode.send_flag = True\n",
    "            # self.quantum_internet.send_qubit(self.endnode.hardware.memory_qubit, self.username, remote_user)\n",
    "            self.quantum_internet.request_link(self.username, remote_user) # the quantum internet will now make the link then notify the endnode to teleport.\n",
    "        else:\n",
    "            print(\"not connected to the quantum internet\")\n",
    "\n",
    "    def handle_qubit_received(self):\n",
    "        print(\"application received qubit with state\", \n",
    "            global_state_container.state.get_qubit_state(self.endnode.hardware.lower_qubit.id))\n",
    "\n",
    "    def send_message(self, obj, msg):\n",
    "        obj.handle_message(msg)\n",
    " \n",
    "    def handle_message(self, msg):\n",
    "        print(\"application received message\")\n",
    "        if msg['msg'] == \"child endnode: Qubit received.\":\n",
    "            self.handle_qubit_received()\n",
    "            return 1\n",
    "        else:\n",
    "            return -1"
   ]
  },
  {
   "cell_type": "markdown",
   "metadata": {},
   "source": [
    "# Tests"
   ]
  },
  {
   "cell_type": "markdown",
   "metadata": {},
   "source": [
    "### Sending qubit to remote user"
   ]
  },
  {
   "cell_type": "code",
   "execution_count": 3,
   "metadata": {
    "tags": []
   },
   "outputs": [
    {
     "output_type": "stream",
     "name": "stdout",
     "text": "imported Qubit object <class '_5_The_Physical_Layer.qubit_carriers.qubit.Qubit'>\nimported global_state_container module <module 'common.global_state_container.global_state_container' from '..\\\\common\\\\global_state_container\\\\global_state_container.py'>\nimported Photon object <class '_5_The_Physical_Layer.qubit_carriers.photon.Photon'>\nimported EndnodeHardware object <class '_5_The_Physical_Layer.node_hardware.endnode_hardware.EndnodeHardware'>\nimported Link object <class '_4_The_Link_Layer.link.Link'>\n"
    },
    {
     "output_type": "error",
     "ename": "SyntaxError",
     "evalue": "invalid syntax (repeater_chain.py, line 98)",
     "traceback": [
      "Traceback \u001b[1;36m(most recent call last)\u001b[0m:\n",
      "  File \u001b[0;32m\"C:\\Users\\basse\\anaconda3\\lib\\site-packages\\IPython\\core\\interactiveshell.py\"\u001b[0m, line \u001b[0;32m3331\u001b[0m, in \u001b[0;35mrun_code\u001b[0m\n    exec(code_obj, self.user_global_ns, self.user_ns)\n",
      "  File \u001b[0;32m\"<ipython-input-3-819727622b5b>\"\u001b[0m, line \u001b[0;32m2\u001b[0m, in \u001b[0;35m<module>\u001b[0m\n    from _2_The_Transport_Layer.quantum_internet import QuantumInternet\n",
      "\u001b[1;36m  File \u001b[1;32m\"..\\_2_The_Transport_Layer\\quantum_internet.py\"\u001b[1;36m, line \u001b[1;32m4\u001b[1;36m, in \u001b[1;35m<module>\u001b[1;36m\u001b[0m\n\u001b[1;33m    from _3_The_Network_Layer.repeater_chain import RepeaterChain\u001b[0m\n",
      "\u001b[1;36m  File \u001b[1;32m\"..\\_3_The_Network_Layer\\repeater_chain.py\"\u001b[1;36m, line \u001b[1;32m98\u001b[0m\n\u001b[1;33m    if type msg['node1'] == \"Endnode\" and type msg['node2'] == \"Endnode\":\u001b[0m\n\u001b[1;37m              ^\u001b[0m\n\u001b[1;31mSyntaxError\u001b[0m\u001b[1;31m:\u001b[0m invalid syntax\n"
     ]
    }
   ],
   "source": [
    "from application import Application\n",
    "from _2_The_Transport_Layer.quantum_internet import QuantumInternet\n",
    "\n",
    "qInternet = QuantumInternet(length=1)\n",
    "\n",
    "app1 = Application(\"Alice\")\n",
    "app2 = Application(\"Bob\")"
   ]
  },
  {
   "cell_type": "code",
   "execution_count": 4,
   "metadata": {},
   "outputs": [
    {
     "output_type": "error",
     "ename": "NameError",
     "evalue": "name 'app1' is not defined",
     "traceback": [
      "\u001b[1;31m---------------------------------------------------------------------------\u001b[0m",
      "\u001b[1;31mNameError\u001b[0m                                 Traceback (most recent call last)",
      "\u001b[1;32m<ipython-input-4-745116b5144e>\u001b[0m in \u001b[0;36m<module>\u001b[1;34m\u001b[0m\n\u001b[1;32m----> 1\u001b[1;33m \u001b[0mapp1\u001b[0m\u001b[1;33m.\u001b[0m\u001b[0msend_qubit\u001b[0m\u001b[1;33m(\u001b[0m\u001b[1;34m\"Bob\"\u001b[0m\u001b[1;33m)\u001b[0m\u001b[1;33m\u001b[0m\u001b[1;33m\u001b[0m\u001b[0m\n\u001b[0m",
      "\u001b[1;31mNameError\u001b[0m: name 'app1' is not defined"
     ]
    }
   ],
   "source": [
    "app1.send_qubit(\"Bob\")"
   ]
  },
  {
   "cell_type": "code",
   "execution_count": 5,
   "metadata": {},
   "outputs": [
    {
     "output_type": "error",
     "ename": "NameError",
     "evalue": "name 'qInternet' is not defined",
     "traceback": [
      "\u001b[1;31m---------------------------------------------------------------------------\u001b[0m",
      "\u001b[1;31mNameError\u001b[0m                                 Traceback (most recent call last)",
      "\u001b[1;32m<ipython-input-5-e31b5c7ea235>\u001b[0m in \u001b[0;36m<module>\u001b[1;34m\u001b[0m\n\u001b[1;32m----> 1\u001b[1;33m \u001b[0mqInternet\u001b[0m\u001b[1;33m.\u001b[0m\u001b[0mconnect\u001b[0m\u001b[1;33m(\u001b[0m\u001b[0mapp1\u001b[0m\u001b[1;33m)\u001b[0m\u001b[1;33m\u001b[0m\u001b[1;33m\u001b[0m\u001b[0m\n\u001b[0m",
      "\u001b[1;31mNameError\u001b[0m: name 'qInternet' is not defined"
     ]
    }
   ],
   "source": [
    "qInternet.connect(app1)"
   ]
  },
  {
   "cell_type": "code",
   "execution_count": 6,
   "metadata": {},
   "outputs": [
    {
     "output_type": "error",
     "ename": "NameError",
     "evalue": "name 'qInternet' is not defined",
     "traceback": [
      "\u001b[1;31m---------------------------------------------------------------------------\u001b[0m",
      "\u001b[1;31mNameError\u001b[0m                                 Traceback (most recent call last)",
      "\u001b[1;32m<ipython-input-6-e26987665109>\u001b[0m in \u001b[0;36m<module>\u001b[1;34m\u001b[0m\n\u001b[1;32m----> 1\u001b[1;33m \u001b[0mqInternet\u001b[0m\u001b[1;33m.\u001b[0m\u001b[0mconnect\u001b[0m\u001b[1;33m(\u001b[0m\u001b[0mapp2\u001b[0m\u001b[1;33m)\u001b[0m\u001b[1;33m\u001b[0m\u001b[1;33m\u001b[0m\u001b[0m\n\u001b[0m",
      "\u001b[1;31mNameError\u001b[0m: name 'qInternet' is not defined"
     ]
    }
   ],
   "source": [
    "qInternet.connect(app2)"
   ]
  },
  {
   "cell_type": "code",
   "execution_count": 7,
   "metadata": {},
   "outputs": [
    {
     "output_type": "error",
     "ename": "NameError",
     "evalue": "name 'app1' is not defined",
     "traceback": [
      "\u001b[1;31m---------------------------------------------------------------------------\u001b[0m",
      "\u001b[1;31mNameError\u001b[0m                                 Traceback (most recent call last)",
      "\u001b[1;32m<ipython-input-7-745116b5144e>\u001b[0m in \u001b[0;36m<module>\u001b[1;34m\u001b[0m\n\u001b[1;32m----> 1\u001b[1;33m \u001b[0mapp1\u001b[0m\u001b[1;33m.\u001b[0m\u001b[0msend_qubit\u001b[0m\u001b[1;33m(\u001b[0m\u001b[1;34m\"Bob\"\u001b[0m\u001b[1;33m)\u001b[0m\u001b[1;33m\u001b[0m\u001b[1;33m\u001b[0m\u001b[0m\n\u001b[0m",
      "\u001b[1;31mNameError\u001b[0m: name 'app1' is not defined"
     ]
    }
   ],
   "source": [
    "app1.send_qubit(\"Bob\")"
   ]
  },
  {
   "cell_type": "code",
   "execution_count": null,
   "metadata": {},
   "outputs": [],
   "source": []
  }
 ],
 "metadata": {
  "kernelspec": {
   "display_name": "Python 3.7.6 64-bit ('base': conda)",
   "language": "python",
   "name": "python_defaultSpec_1599809870254"
  },
  "language_info": {
   "codemirror_mode": {
    "name": "ipython",
    "version": 3
   },
   "file_extension": ".py",
   "mimetype": "text/x-python",
   "name": "python",
   "nbconvert_exporter": "python",
   "pygments_lexer": "ipython3",
   "version": "3.7.6-final"
  }
 },
 "nbformat": 4,
 "nbformat_minor": 2
}