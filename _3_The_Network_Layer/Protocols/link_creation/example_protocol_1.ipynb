{
 "metadata": {
  "language_info": {
   "codemirror_mode": {
    "name": "ipython",
    "version": 3
   },
   "file_extension": ".py",
   "mimetype": "text/x-python",
   "name": "python",
   "nbconvert_exporter": "python",
   "pygments_lexer": "ipython3",
   "version": "3.7.6-final"
  },
  "orig_nbformat": 2,
  "kernelspec": {
   "name": "python_defaultSpec_1599803489635",
   "display_name": "Python 3.7.6 64-bit ('base': conda)"
  }
 },
 "nbformat": 4,
 "nbformat_minor": 2,
 "cells": [
  {
   "cell_type": "code",
   "execution_count": 3,
   "metadata": {},
   "outputs": [],
   "source": [
    "%load_ext autoreload\n",
    "%autoreload 2"
   ]
  },
  {
   "cell_type": "code",
   "execution_count": 10,
   "metadata": {
    "tags": []
   },
   "outputs": [
    {
     "output_type": "stream",
     "name": "stdout",
     "text": "Overwriting example_protocol_1.py\n"
    }
   ],
   "source": [
    "%%writefile example_protocol_1.py\n",
    "import sys\n",
    "\n",
    "sys.path.append(\"..\")\n",
    "\n",
    "class ExampleProtocol1(object):\n",
    "    def __init__(self, repeater_chain):\n",
    "        self.name = \"example protocol 1\"\n",
    "        self.repeater_chain = repeater_chain\n",
    "\n",
    "    def send_message(self, obj, msg):\n",
    "        obj.handle_message(msg)\n",
    "    \n",
    "    def handle_message(self, msg):\n",
    "        if msg['msg'] == \"network layer: Link request received.\":\n",
    "            self.initiate_link_creation(msg['endnode1'], msg['endnode2'], msg['minimum_fidelity'])\n",
    "\n",
    "    def initiate_link_creation(self, endnode1, endnode2, minimum_fidelity=1):\n",
    "        print(\"initiating link creation using protocol\", self.name)\n",
    "        chain = self.repeater_chain\n",
    "        for i in range(len(chain.repeaters)-1):\n",
    "            chain.repeaters[i].attempt_link_creation(chain.repeaters[i+1])\n",
    "        # Also ask the link layer for links between the endnodes and the\n",
    "        # edge repeaters.\n",
    "        # First we get the repeater that's wired to each endnode\n",
    "        endnode1_repeater = chain.repeaters[0] if endnode1.lower_cable == chain.repeaters[0].left_lower_cable else chain.repeaters[-1]\n",
    "        endnode2_repeater = chain.repeaters[0] if endnode2.lower_cable == chain.repeaters[0].left_lower_cable else chain.repeaters[-1]\n",
    "        # Then we link them.\n",
    "        endnode1.attempt_link_creation(endnode1_repeater)\n",
    "        endnode2.attempt_link_creation(endnode2_repeater)\n",
    "        # Then we swap.\n",
    "        for i in range(len(chain.repeaters)):\n",
    "            chain.repeaters[i].attempt_swap(chain.repeaters[i].left_lower_link, chain.repeaters[i].right_lower_link)"
   ]
  },
  {
   "cell_type": "code",
   "execution_count": null,
   "metadata": {},
   "outputs": [],
   "source": []
  }
 ]
}