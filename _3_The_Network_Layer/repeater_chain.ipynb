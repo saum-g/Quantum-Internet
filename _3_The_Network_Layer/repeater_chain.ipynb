{
 "cells": [
  {
   "cell_type": "markdown",
   "metadata": {},
   "source": [
    "The network layer can ask specific repeaters to swap, because it's the first layer that has information about the entire network.\n",
    "\n",
    "The network layer can also ask repeaters to create links with a given minimum fidelity.\n",
    "\n",
    "In our simulations, the network layer will also contain a GUI object and a globalState object that together show graphically what the global state of the network is. Note that this information is only available to us because we are running a simulation. In realiy, we practically never know exactly the state we are using, unless we do a lot of measurements to try to figure it out. This is called [quantum state tomography](https://en.wikipedia.org/wiki/Quantum_tomography)."
   ]
  },
  {
   "cell_type": "code",
   "execution_count": 1,
   "metadata": {},
   "outputs": [],
   "source": [
    "%load_ext autoreload\n",
    "%autoreload 2"
   ]
  },
  {
   "cell_type": "code",
   "execution_count": 3,
   "metadata": {
    "tags": []
   },
   "outputs": [
    {
     "output_type": "stream",
     "name": "stdout",
     "text": "Overwriting repeater_chain.py\n"
    }
   ],
   "source": [
    "%%writefile repeater_chain.py\n",
    "import sys\n",
    "\n",
    "sys.path.append(\"..\")\n",
    "from _4_The_Link_Layer.repeater import Repeater\n",
    "from _4_The_Link_Layer.cable import Cable\n",
    "\n",
    "from .Protocols.link_creation.example_protocol_1 import ExampleProtocol1\n",
    "\n",
    "class RepeaterChain(object):\n",
    "    def __init__(self, length, parent_quantum_internet):\n",
    "        print(\"creating new repeater chain\")\n",
    "        self.length = length\n",
    "        self.repeaters = [Repeater(self) for i in range(length)]\n",
    "        self.parent_quantum_internet = parent_quantum_internet\n",
    "#         self.connectedEndnodes = []\n",
    "        # connect the repeaters with cables\n",
    "        for i in range(length):\n",
    "            # for every repeater create a new cable to the right\n",
    "            if i < length-1:\n",
    "                new_upper_cable = Cable()\n",
    "                new_lower_cable = Cable()\n",
    "                self.repeaters[i].connect_right_cable(new_upper_cable, \"upper\")\n",
    "                self.repeaters[i].connect_right_cable(new_lower_cable, \"lower\")\n",
    "            if i > 0:\n",
    "                self.repeaters[i].connect_left_cable(self.repeaters[i-1].right_upper_cable, \"upper\")\n",
    "                self.repeaters[i].connect_left_cable(self.repeaters[i-1].right_lower_cable, \"lower\")\n",
    "            # after a repeater is connected, let the network\n",
    "            # layer give it a network Id.\n",
    "            self.assign_networkId(self.repeaters[i])\n",
    "            print(\"assigned net id\", self.repeaters[i].netId)\n",
    "        self.protocol = ExampleProtocol1(self)\n",
    "\n",
    "    def connect(self, endnode): #endnode is a link layer object\n",
    "        print(\"connecting endnode to repeater chain\")\n",
    "        if self.repeaters[0].left_lower_cable == None: # in the future choose where to connect in a better way\n",
    "            new_upper_cable = Cable()\n",
    "            new_lower_cable = Cable()\n",
    "            endnode.connect_cable(new_upper_cable, \"upper\")\n",
    "            endnode.connect_cable(new_lower_cable, \"lower\")\n",
    "            self.repeaters[0].connect_left_cable(new_upper_cable, \"upper\")\n",
    "            self.repeaters[0].connect_left_cable(new_lower_cable, \"lower\")\n",
    "        else:\n",
    "            new_upper_cable = Cable()\n",
    "            new_lower_cable = Cable()\n",
    "            endnode.connect_cable(new_upper_cable, \"upper\")\n",
    "            endnode.connect_cable(new_lower_cable, \"lower\")\n",
    "            self.repeaters[-1].connect_right_cable(new_upper_cable, \"upper\")\n",
    "            self.repeaters[-1].connect_right_cable(new_lower_cable, \"lower\")\n",
    "        self.assign_networkId(endnode)\n",
    "        print(\"assigned net id\", endnode.netId)\n",
    "\n",
    "    def attempt_swap(self, repeater):\n",
    "        #ask repeater to do a swap\n",
    "        repeater.attempt_swap(repeater.left_lower_link, repeater.right_lower_link) #specify the links to swap#\n",
    "        \n",
    "    def request_link(self, endnode1, endnode2, minimum_fidelity=-1):\n",
    "        print(\"handling link request in repeater chain\")\n",
    "        # Here come the different network layer protocols.\n",
    "        msg = {'msg' : \"network layer: Link request received.\",\n",
    "               'endnode1' : endnode1,\n",
    "               'endnode2' : endnode2,\n",
    "               'minimum_fidelity' : minimum_fidelity\n",
    "               }\n",
    "        self.send_message(self.protocol, msg)\n",
    "\n",
    "    def assign_networkId(self, node):\n",
    "        if type(node).__name__ == \"Endnode\":\n",
    "            if node.lower_cable == None:\n",
    "                print(\"endnode is not wired to network\")\n",
    "            elif node.lower_cable == self.repeaters[0].left_lower_cable:\n",
    "                node.netId = 0\n",
    "            elif node.lower_cable == self.repeaters[-1].right_lower_cable:\n",
    "                node.netId = self.length + 1\n",
    "        elif type(node).__name__ == \"Repeater\":\n",
    "            if node.right_lower_cable == None and node.left_lower_cable == None:\n",
    "                print(\"repeater is not wired to network\")\n",
    "            else:\n",
    "                node.netId = self.repeaters.index(node) + 1\n",
    "        else:\n",
    "            print(\"unknown node type.\")\n",
    "\n",
    "    def send_message(self, obj, msg):\n",
    "        obj.handle_message(msg)\n",
    "\n",
    "    def handle_message(self, msg):\n",
    "        print(\"repeater chain received message:\", msg['msg'])\n",
    "        if msg['msg'] == \"repeater: Swap complete.\":\n",
    "            if type(msg['node1']).__name__ == \"Endnode\" and type(msg['node2']).__name__ == \"Endnode\":\n",
    "                msg = {'msg': \"network layer: Link to remote endnode created.\",\n",
    "                       'endnode1': msg['node1'],\n",
    "                       'endnode2': msg['node2']}\n",
    "                self.send_message(self.parent_quantum_internet, msg)\n",
    "        else:\n",
    "            print(\"repeater chain received unknown message \\\"\" + msg['msg'] + \"\\\"\")"
   ]
  },
  {
   "cell_type": "markdown",
   "metadata": {},
   "source": [
    "The function `assignNetworkIds` assigns Ids that identify the different link layer objects connected to the network. They are analogous to IP addresses in the classical internet. They are location-dependent: a repeater or an endnode with a smaller id is located more to the left."
   ]
  },
  {
   "cell_type": "code",
   "execution_count": null,
   "metadata": {},
   "outputs": [],
   "source": []
  }
 ],
 "metadata": {
  "kernelspec": {
   "display_name": "Python 3.7.6 64-bit ('base': conda)",
   "language": "python",
   "name": "python_defaultSpec_1599824453910"
  },
  "language_info": {
   "codemirror_mode": {
    "name": "ipython",
    "version": 3
   },
   "file_extension": ".py",
   "mimetype": "text/x-python",
   "name": "python",
   "nbconvert_exporter": "python",
   "pygments_lexer": "ipython3",
   "version": "3.7.6-final"
  }
 },
 "nbformat": 4,
 "nbformat_minor": 2
}