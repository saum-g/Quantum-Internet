{
 "cells": [
  {
   "cell_type": "markdown",
   "metadata": {},
   "source": [
    "Optical fibers are used to transmit photons around, e.g., between repeaters.\n",
    "\n",
    "Physically, a photon passing through an optical fiber can be modelled by a quantum channel acting on the state of the qubit.\n",
    "\n",
    "The optical fiber is used in this scenario: repeater 1 wants to share entanglement with repeater 2. So repeater 1 prepares an EPR pair locally, then sends one half of the pair to repeater 2 through the quantum channel that models the passage of a photon through the fiber. The channel is applied to the qubit (in the global state container) in the function `carryQubit` below. For now we model the photon transmission by an identity map for simplicity until the simualtor is built up a bit."
   ]
  },
  {
   "cell_type": "code",
   "execution_count": 46,
   "metadata": {},
   "outputs": [
    {
     "name": "stdout",
     "output_type": "stream",
     "text": [
      "Overwriting optical_fiber.py\n"
     ]
    }
   ],
   "source": [
    "%%writefile optical_fiber.py\n",
    "import sys\n",
    "import math\n",
    "from qutip import *\n",
    "\n",
    "sys.path.append(\"..\")\n",
    "from common.global_state_container import global_state_container\n",
    "from ..qubit_carriers.photon import Photon\n",
    "\n",
    "class OpticalFiber(object):\n",
    "    def __init__(self, length=1):\n",
    "        print(\"creating new optical fiber\")\n",
    "        self.global_state = global_state_container.state\n",
    "#         self.id = None\n",
    "        # The length of the fiber.\n",
    "        self.length = length\n",
    "        # The two nodes at the two ends of the fiber.\n",
    "        # A node can be a repeaterHardware, an end node, a heralding station, \n",
    "        # etc. For now it's a repeaterHardware object for simplicity.\n",
    "        self.node1 = None\n",
    "        self.node2 = None\n",
    "#         self.photon12 = Photon(self)   # this is the photon going from node 1 to node 2\n",
    "#         self.photon21 = Photon(self)\n",
    "\n",
    "    def connect_node_hardware(self, node_hardware, pos=None):\n",
    "        if pos == 1:\n",
    "            self.node1 = node_hardware\n",
    "        elif pos == 2:\n",
    "            self.node2 = node_hardware\n",
    "        else:\n",
    "            if self.node1 is None:\n",
    "                self.node1 = node_hardware\n",
    "            else:\n",
    "                self.node2 = node_hardware\n",
    "                \n",
    "    def is_connected(self, node_hardware):\n",
    "        return node_hardware == self.node1 or node_hardware == self.node2\n",
    "\n",
    "    def carry_photon(self, photon, sender):  # Here there will be a quantum channel applied to the state\n",
    "        # sender is a node hardware object.\n",
    "        # apply channel here\n",
    "        # for now make it the identity channel\n",
    "        gate = tensor([identity(2) for _ in range(int(math.log2(self.global_state.state.shape[0])))])\n",
    "        new_state = gate * self.global_state.state * gate.dag()  # for now the map is a identity unitary gate\n",
    "        self.global_state.update_state(new_state)\n",
    "        # send output state to the receiver\n",
    "        receiver = self.node2 if sender == self.node1 else self.node1\n",
    "        receiver.receive_photon_from_fiber(photon, self)"
   ]
  },
  {
   "cell_type": "markdown",
   "metadata": {},
   "source": [
    "A channel that can be used to model an optical fiber is the Gaussian bosonic channel [CITATION NEEDED]. The capacity of this channel is ..."
   ]
  }
 ],
 "metadata": {
  "kernelspec": {
   "display_name": "Python 3.8.3 32-bit",
   "language": "python",
   "name": "python_defaultSpec_1599900565533"
  },
  "language_info": {
   "codemirror_mode": {
    "name": "ipython",
    "version": 3
   },
   "file_extension": ".py",
   "mimetype": "text/x-python",
   "name": "python",
   "nbconvert_exporter": "python",
   "pygments_lexer": "ipython3",
   "version": "3.8.3-final"
  }
 },
 "nbformat": 4,
 "nbformat_minor": 2
}