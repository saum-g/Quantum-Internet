{
 "cells": [
  {
   "cell_type": "markdown",
   "metadata": {},
   "source": [
    "Users who want to use the quantum internet can buy an `endnodeHardware` unit and connect it to their quantum internet cable at home.\n",
    "\n",
    "[May be move this paragraph somewhere else, because it talks about the layers above.]\n",
    "Each `endnodeHardware` unit comes with software preinstalled that talks to rest of the layers of the quantum internet stack via the quantum internet cable. So what the users buy at the store is not just the `endnodeHardware` unit but also the software on top of it --- the sales people at the [COOL NAME FOR COMPANY THAT MAKES DEVICE] market the different iterations of this device with colorful names like [COOL NAME]."
   ]
  },
  {
   "cell_type": "code",
   "execution_count": 1,
   "metadata": {
    "tags": []
   },
   "outputs": [],
   "source": [
    "%load_ext autoreload\n",
    "%autoreload 2"
   ]
  },
  {
   "cell_type": "code",
   "execution_count": 2,
   "metadata": {
    "tags": []
   },
   "outputs": [
    {
     "output_type": "stream",
     "name": "stdout",
     "text": "Overwriting endnode_hardware.py\n"
    }
   ],
   "source": [
    "%%writefile endnode_hardware.py\n",
    "import sys\n",
    "import math\n",
    "import random\n",
    "from qutip import *\n",
    "\n",
    "sys.path.append(\"../..\")\n",
    "from _5_The_Physical_Layer.qubit_carriers.qubit import Qubit\n",
    "from _5_The_Physical_Layer.qubit_carriers.photon import Photon\n",
    "\n",
    "from common.global_state_container import global_state_container\n",
    "\n",
    "class EndnodeHardware(object):\n",
    "    def __init__(self, parent_endnode, qubits=1):\n",
    "        print(\"creating endnode hardware\")\n",
    "#         self.id = None\n",
    "        self.parent_endnode = parent_endnode\n",
    "        self.global_state = global_state_container.state\n",
    "        self.upper_qubit = Qubit(self) # this qubit is used to support entanglement\n",
    "        self.lower_qubit = Qubit(self) # this qubit is used to support entanglement\n",
    "        self.memory_qubit = Qubit(self) # this qubit is used to store qubits that a user needs to send\n",
    "        self.upper_fiber = None\n",
    "        self.lower_fiber = None\n",
    "#         self.memoryQubits = []\n",
    "\n",
    "    def connect_fiber(self, fiber, upper_or_lower=\"lower\"):\n",
    "        print(\"connecting \" + upper_or_lower + \" fiber in endnode hardware\")\n",
    "        if upper_or_lower == \"upper\":\n",
    "            self.upper_fiber = fiber\n",
    "        else:\n",
    "            self.lower_fiber = fiber\n",
    "        fiber.connect_node_hardware(self)\n",
    "\n",
    "    def teleport_qubit(self): # this does the same thing as repeater.hardware.entanglement_swap.\n",
    "        print(\"teleporting qubit in endnode hardware.\")\n",
    "        CNOT = cnot(N=int(math.log2(self.global_state.state.shape[0])), control=self.memory_qubit.id, target=self.lower_qubit.id)\n",
    "        new_state = CNOT * self.global_state.state * CNOT.dag()\n",
    "        Z180 = rz(180, N=int(math.log2(self.global_state.state.shape[0])), target=self.memory_qubit.id)\n",
    "        Y90  = ry(90, N=int(math.log2(self.global_state.state.shape[0])), target=self.memory_qubit.id)\n",
    "        H = Y90 * Z180\n",
    "        new_state = H * new_state * H.dag()\n",
    "        self.global_state.update_state(new_state)\n",
    "        measurement_result1 = self.measure(self.memory_qubit)\n",
    "        measurement_result2 = self.measure(self.lower_qubit) # we only use the upper qubit for distillation\n",
    "        # notify the parent repeater so that it can send the classical data to\n",
    "        # the other repeater.\n",
    "        msg = {'msg' : \"child hardware: Teleport done. Handle corrections.\",\n",
    "               'measurement_result1' : measurement_result1,\n",
    "               'measurement_result2' : measurement_result2}\n",
    "        self.send_message(self.parent_endnode, msg)\n",
    "\n",
    "    def apply_teleport_corrections(self, measurement_result1, measurement_result2):\n",
    "        print(\"applying teleport corrections in endnode hardware.\")\n",
    "        if measurement_result1 == 0 and measurement_result1 == 0:\n",
    "            correction = None\n",
    "        elif measurement_result1 == 0 and measurement_result1 == 1:\n",
    "            correction = rz(180, N=int(math.log2(self.global_state.state.shape[0])), target=self.lower_qubit.id)\n",
    "        elif measurement_result1 == 1 and measurement_result1 == 0:\n",
    "            correction = rx(180, N=int(math.log2(self.global_state.state.shape[0])), target=self.lower_qubit.id)\n",
    "        elif measurement_result1 == 1 and measurement_result1 == 1:\n",
    "            correction = rz(180, N=int(math.log2(self.global_state.state.shape[0])), target=self.lower_qubit.id)\n",
    "            correction = rx(180, N=int(math.log2(self.global_state.state.shape[0])), target=self.lower_qubit.id) * correction\n",
    "        if correction:\n",
    "            new_state = correction * self.global_state.state * correction.dag()\n",
    "            self.global_state.update_state(new_state)\n",
    "        msg = {'msg' : \"child hardware: Teleport corrections applied.\"}\n",
    "        self.send_message(self.parent_endnode, msg)\n",
    "\n",
    "    def measure(self, qubit, axis = \"01\"):\n",
    "        print(\"measuring qubit in endnode hardware\")\n",
    "        # https://inst.eecs.berkeley.edu/~cs191/fa14/lectures/lecture10.pdf\n",
    "        rho = self.global_state.state\n",
    "        # construct the projectors\n",
    "        P0 = tensor([identity(2) for _ in range(qubit.id)] + \n",
    "                    [basis(2,0) * basis(2,0).dag()] + \n",
    "                    [identity(2) for _ in range(qubit.id + 1, int(math.log2(self.global_state.state.shape[0])))])\n",
    "        P1 = tensor([identity(2) for _ in range(qubit.id)] + \n",
    "                    [basis(2,1) * basis(2,1).dag()] + \n",
    "                    [identity(2) for _ in range(qubit.id + 1, int(math.log2(self.global_state.state.shape[0])))])\n",
    "        # compute the probabilities of the 1 and 0 outcomes\n",
    "        p0 = (P0 * rho).tr()\n",
    "        p1 = (P1 * rho).tr() # check that p1 = 1 - p0\n",
    "        # choose an outcome at random using the probabilities above.\n",
    "        result = 0 if random.random() < p0 else 1\n",
    "        # simulate state collapse\n",
    "        new_state = P0 * rho * P0 / p0 if result == 0 else P1 * rho * P1 / p1\n",
    "        # update globalState\n",
    "        self.global_state.update_state(new_state)\n",
    "        # return the measurement result\n",
    "        return result\n",
    "\n",
    "    def load_qubit_on_photon(self, qubit, photon):  # both qubit and photon are qubit objects\n",
    "        print(\"loading data from local qubit onto photon\")\n",
    "        # swaps the state of the photon and the local qubit \n",
    "        # (the photon should be initialized to |0>. The initialization \n",
    "        # can be noisy).\n",
    "        SWAP = swap(N=int(math.log2(self.global_state.state.shape[0])), targets=[qubit.id, photon.id])\n",
    "        new_state = SWAP * self.global_state.state * SWAP.dag()\n",
    "        self.global_state.update_state(new_state)\n",
    "\n",
    "    def send_photon_through_fiber(self, photon, fiber):\n",
    "        fiber.carry_photon(photon, self)\n",
    "\n",
    "    def receive_photon_from_fiber(self, photon, fiber):\n",
    "        print(\"endnode hardware receiving photon\")\n",
    "        # This function is called by an optical fiber to\n",
    "        # alert the repeaterHardware to receive the incoming photon.\n",
    "        # The repeaterHardware chooses a (physical) qubit on which to unload the \n",
    "        # qubit carried on the photon.\n",
    "        qubit = self.lower_qubit if fiber == self.lower_fiber else self.upper_qubit\n",
    "        self.unload_qubit_from_photon(qubit, photon) # confusing names.\n",
    "        \n",
    "    def unload_qubit_from_photon(self, qubit, photon):\n",
    "        print(\"unloading data from photon onto local qubit\")\n",
    "        # swaps the state of the photon and the local qubit \n",
    "        # (the local qubit should be initialized to |0>. The initialization \n",
    "        # can be noisy). \n",
    "        SWAP = swap(N=int(math.log2(self.global_state.state.shape[0])), targets=[qubit.id, photon.id])\n",
    "        new_state = SWAP * self.global_state.state * SWAP.dag()\n",
    "        self.global_state.update_state(new_state)\n",
    "        # notify the layers above that a qubit was received.\n",
    "        upper_or_lower = \"upper\" if qubit == self.upper_qubit else \"lower\"\n",
    "        fiber = self.upper_fiber if upper_or_lower == \"upper\" else self.lower_fiber\n",
    "        sender = fiber.node2 if self == fiber.node1 else fiber.node1\n",
    "        if photon.header == \"link\":\n",
    "            print(\"received link qubit in endnode hardware\")\n",
    "            msg = {'msg' : \"child hardware: Received link qubit.\",  # this is the standard. Document it somewhere.\n",
    "                   'sender' : sender, \n",
    "                   'receiver' : self,\n",
    "                   'upper_or_lower' : upper_or_lower,\n",
    "                   'link' : photon.link}\n",
    "        else:\n",
    "            msg = {'msg' : \"child hardware: Received qubit.\",  # this is the standard. Document it somewhere.\n",
    "                   'sender' : sender, \n",
    "                   'receiver' : self,\n",
    "                   'upper_or_lower' : upper_or_lower}\n",
    "        photon.destroy()\n",
    "        if self.parent_endnode:\n",
    "            self.send_message(self.parent_endnode, msg)\n",
    "\n",
    "    def attempt_link_creation(self, remote_hardware, upper_or_lower=\"lower\"):\n",
    "        print(\"attempting link creation in endnode hardware.\")\n",
    "        # remote is a repeater object.\n",
    "        # here the physical details of link creation will be implemented:\n",
    "        # 1. create EPR pair. Store one half locally and load the other on a photon.\n",
    "        # 2. send the photon to the remote receiver.\n",
    "        fiber = self.upper_fiber if upper_or_lower == \"upper\" else self.lower_fiber\n",
    "        qubit = self.upper_qubit if upper_or_lower == \"upper\" else self.lower_qubit\n",
    "        link = None # this is a link layer object so it might be silly to use it like this.\n",
    "        if self.parent_endnode:\n",
    "            if upper_or_lower == \"upper\":\n",
    "                link = self.parent_endnode.upper_link\n",
    "            else:\n",
    "                link = self.parent_endnode.lower_link\n",
    "        qubit.reset()\n",
    "        photon = Photon()\n",
    "        photon.header = \"link\"\n",
    "        photon.link = link\n",
    "        Z180 = rz(180, N=int(math.log2(self.global_state.state.shape[0])), target=qubit.id)\n",
    "        Y90  = ry(90, N=int(math.log2(self.global_state.state.shape[0])), target=qubit.id)\n",
    "        H = Y90 * Z180\n",
    "        new_state = H * self.global_state.state * H.dag()\n",
    "        CNOT = cnot(N=int(math.log2(self.global_state.state.shape[0])), control=qubit.id, target=photon.id)\n",
    "        new_state = CNOT * new_state * CNOT.dag()\n",
    "        self.global_state.update_state(new_state)\n",
    "        self.send_photon_through_fiber(photon, fiber)\n",
    "        # notify parent_repeater\n",
    "        if self.parent_endnode:\n",
    "            msg = {'msg' : \"child hardware: Sent link qubit.\",  # this is the standard. Document it somewhere.\n",
    "                   'sender' : self, \n",
    "                   'receiver' : fiber.node2 if self == fiber.node1 else fiber.node1,\n",
    "                   'upper_or_lower' : upper_or_lower}\n",
    "            self.send_message(self.parent_endnode, msg)\n",
    "        # 3. (for later) check somehow that we have a good link.\n",
    "        # support for heralding stations and photon transmission, etc.\n",
    "\n",
    "    def attempt_distillation(self):\n",
    "        # apply gates on the qubits here\n",
    "        return\n",
    "\n",
    "    def apply_swap_corrections(self, measurement_result1, measurement_result2):\n",
    "        print(\"applying swap corrections in endnode hardware\")\n",
    "        if measurement_result1 == 0 and measurement_result1 == 0:\n",
    "            correction = None\n",
    "        elif measurement_result1 == 0 and measurement_result1 == 1:\n",
    "            correction = rz(180, N=int(math.log2(self.global_state.state.shape[0])), target=self.lower_qubit.id)\n",
    "        elif measurement_result1 == 1 and measurement_result1 == 0:\n",
    "            correction = rx(180, N=int(math.log2(self.global_state.state.shape[0])), target=self.lower_qubit.id)\n",
    "        elif measurement_result1 == 1 and measurement_result1 == 1:\n",
    "            correction = rz(180, N=int(math.log2(self.global_state.state.shape[0])), target=self.lower_qubit.id)\n",
    "            correction = rx(180, N=int(math.log2(self.global_state.state.shape[0])), target=self.lower_qubit.id) * correction\n",
    "        if correction:\n",
    "            new_state = correction * self.global_state.state * correction.dag()\n",
    "            self.global_state.update_state(new_state)\n",
    "        msg = {'msg' : \"child hardware: Entanglement swapping corrections applied.\"}\n",
    "        self.send_message(self.parent_endnode, msg)\n",
    "\n",
    "    def load_zero_on_memory_qubit(self):\n",
    "        print(\"loading |0> state on memory qubit in endnode hardware\")\n",
    "        return # we don't need to do anything because the qubit is initialize in this state\n",
    "\n",
    "    def load_one_on_memory_qubit(self):\n",
    "        print(\"loading |1> state on memory qubit in endnode hardware\")\n",
    "        X180 = rx(180, N=int(math.log2(self.global_state.state.shape[0])), target=self.memory_qubit.id)\n",
    "        new_state = X180 * self.global_state.state * X180.dag()\n",
    "        self.global_state.update_state(new_state)\n",
    "\n",
    "    def load_plus_on_memory_qubit(self):\n",
    "        print(\"loading |+> state on memory qubit in endnode hardware\")\n",
    "        Y90  = ry(90, N=int(math.log2(self.global_state.state.shape[0])), target=self.memory_qubit.id)\n",
    "        new_state = Y90 * self.global_state.state * Y90.dag()\n",
    "        self.global_state.update_state(new_state)\n",
    "\n",
    "    def load_minus_on_memory_qubit(self):\n",
    "        print(\"loading |-> state on memory qubit in endnode hardware\")\n",
    "        Y90  = ry(90, N=int(math.log2(self.global_state.state.shape[0])), target=self.memory_qubit.id)\n",
    "        Z180 = rz(180, N=int(math.log2(self.global_state.state.shape[0])), target=self.memory_qubit.id)\n",
    "        G = Z189 * Y90\n",
    "        new_state = G * self.global_state.state * G.dag()\n",
    "        self.global_state.update_state(new_state)\n",
    "\n",
    "    def send_message(self, obj, msg):\n",
    "        obj.handle_message(msg)\n",
    "\n",
    "    def handle_message(self, msg):\n",
    "        return"
   ]
  },
  {
   "cell_type": "markdown",
   "metadata": {},
   "source": [
    "# Tests"
   ]
  },
  {
   "cell_type": "markdown",
   "metadata": {},
   "source": [
    "### Two EndnodeHardware objects send photons between each other"
   ]
  },
  {
   "cell_type": "code",
   "execution_count": 3,
   "metadata": {
    "tags": []
   },
   "outputs": [
    {
     "output_type": "stream",
     "name": "stdout",
     "text": "imported global_state_container module <module 'common.global_state_container.global_state_container' from '../..\\\\common\\\\global_state_container\\\\global_state_container.py'>\ncreating endnode hardware\ncreating new qubit\ncreating new qubit in global state\nGUI not on\ncreating new qubit\ncreating new qubit in global state\nGUI not on\ncreating new qubit\ncreating new qubit in global state\nGUI not on\ncreating endnode hardware\ncreating new qubit\ncreating new qubit in global state\nGUI not on\ncreating new qubit\ncreating new qubit in global state\nGUI not on\ncreating new qubit\ncreating new qubit in global state\nGUI not on\ncreating new optical fiber\nconnecting lower fiber in endnode hardware\nconnecting lower fiber in endnode hardware\ncreating new photon\ncreating new qubit in global state\nGUI not on\nGUI not on\nendnode hardware receiving photon\nunloading data from photon onto local qubit\nGUI not on\ndestroying photon with id 6\ndestroying qubit 6 in global state\nGUI not on\n"
    }
   ],
   "source": [
    "from qutip import *\n",
    "\n",
    "from endnode_hardware import EndnodeHardware\n",
    "from _5_The_Physical_Layer.optical_fiber.optical_fiber import OpticalFiber\n",
    "from _5_The_Physical_Layer.qubit_carriers.photon import Photon\n",
    "\n",
    "from common.global_state_container import global_state_container\n",
    "\n",
    "global_state_container.init()\n",
    "\n",
    "node1 = EndnodeHardware(parent_endnode=None)\n",
    "node2 = EndnodeHardware(parent_endnode=None)\n",
    "\n",
    "fiber = OpticalFiber()\n",
    "node1.connect_fiber(fiber)\n",
    "node2.connect_fiber(fiber)\n",
    "\n",
    "node1.send_photon_through_fiber(Photon(), fiber)"
   ]
  },
  {
   "cell_type": "markdown",
   "metadata": {},
   "source": [
    "### Two EndnodeHardware objects create entanglement between each other"
   ]
  },
  {
   "cell_type": "code",
   "execution_count": 4,
   "metadata": {
    "tags": []
   },
   "outputs": [
    {
     "output_type": "stream",
     "name": "stdout",
     "text": "attempting link creation in endnode hardware.\ncreating new photon\ncreating new qubit in global state\nGUI not on\nGUI not on\nGUI not on\nendnode hardware receiving photon\nunloading data from photon onto local qubit\nGUI not on\nreceived link qubit in endnode hardware\ndestroying photon with id 6\ndestroying qubit 6 in global state\nGUI not on\n"
    }
   ],
   "source": [
    "node1.attempt_link_creation(node2)"
   ]
  },
  {
   "cell_type": "markdown",
   "metadata": {},
   "source": [
    "### Unloading qubit from photon."
   ]
  },
  {
   "cell_type": "code",
   "execution_count": 5,
   "metadata": {
    "tags": []
   },
   "outputs": [
    {
     "output_type": "stream",
     "name": "stdout",
     "text": "creating new photon\ncreating new qubit in global state\nGUI not on\nunloading data from photon onto local qubit\nGUI not on\ndestroying photon with id 6\ndestroying qubit 6 in global state\nGUI not on\n"
    }
   ],
   "source": [
    "node1.unload_qubit_from_photon(node1.lower_qubit, Photon())"
   ]
  },
  {
   "cell_type": "code",
   "execution_count": 6,
   "metadata": {
    "tags": []
   },
   "outputs": [
    {
     "output_type": "stream",
     "name": "stdout",
     "text": "measuring qubit in endnode hardware\nGUI not on\n"
    },
    {
     "output_type": "execute_result",
     "data": {
      "text/plain": "0"
     },
     "metadata": {},
     "execution_count": 6
    }
   ],
   "source": [
    "node1.measure(node1.lower_qubit)"
   ]
  },
  {
   "cell_type": "code",
   "execution_count": null,
   "metadata": {},
   "outputs": [],
   "source": []
  }
 ],
 "metadata": {
  "kernelspec": {
   "display_name": "Python 3.7.6 64-bit ('base': conda)",
   "language": "python",
   "name": "python_defaultSpec_1599900623054"
  },
  "language_info": {
   "codemirror_mode": {
    "name": "ipython",
    "version": 3
   },
   "file_extension": ".py",
   "mimetype": "text/x-python",
   "name": "python",
   "nbconvert_exporter": "python",
   "pygments_lexer": "ipython3",
   "version": "3.7.6-final"
  }
 },
 "nbformat": 4,
 "nbformat_minor": 4
}