{
 "cells": [
  {
   "cell_type": "markdown",
   "metadata": {},
   "source": [
    "This brand of repeater hardware has four qubits on board, with four optical fibers connecting them to the outside world.\n",
    "\n",
    "\n",
    "There can exist better designs. Future repeaters might, for instance, support extra qubits for quantum error correction."
   ]
  },
  {
   "cell_type": "code",
   "execution_count": 68,
   "metadata": {
    "tags": []
   },
   "outputs": [
    {
     "output_type": "stream",
     "name": "stdout",
     "text": "The autoreload extension is already loaded. To reload it, use:\n  %reload_ext autoreload\n"
    }
   ],
   "source": [
    "%load_ext autoreload\n",
    "%autoreload 2"
   ]
  },
  {
   "cell_type": "code",
   "execution_count": 69,
   "metadata": {
    "tags": []
   },
   "outputs": [
    {
     "output_type": "stream",
     "name": "stdout",
     "text": "Overwriting repeater_hardware.py\n"
    }
   ],
   "source": [
    "%%writefile repeater_hardware.py\n",
    "import sys\n",
    "import math\n",
    "import random\n",
    "from qutip import *\n",
    "\n",
    "sys.path.append(\"../..\")\n",
    "from _5_The_Physical_Layer.qubit_carriers.qubit import Qubit\n",
    "from _5_The_Physical_Layer.qubit_carriers.photon import Photon\n",
    "\n",
    "from common.global_state_container import global_state_container\n",
    "\n",
    "class RepeaterHardware(object):\n",
    "    def __init__(self, parent_repeater, qubits=2):\n",
    "        print(\"creating new repeater hardware\")\n",
    "        self.parent_repeater = parent_repeater\n",
    "        self.global_state = global_state_container.state\n",
    "        self.left_upper_qubit = Qubit(self)\n",
    "        self.left_lower_qubit = Qubit(self)\n",
    "        self.right_upper_qubit = Qubit(self)\n",
    "        self.right_lower_qubit = Qubit(self)\n",
    "        self.left_upper_fiber = None\n",
    "        self.left_lower_fiber = None\n",
    "        self.right_upper_fiber = None\n",
    "        self.right_lower_fiber = None\n",
    "#         self.memoryQubits = []\n",
    "\n",
    "    def connect_right_fiber(self, fiber, upper_or_lower=\"lower\"):\n",
    "        print(\"connecting\", upper_or_lower, \"right optical fiber in repeater hardware\")\n",
    "        if upper_or_lower == \"upper\":\n",
    "            self.right_upper_fiber = fiber\n",
    "        else:\n",
    "            self.right_lower_fiber = fiber\n",
    "        fiber.connect_node_hardware(self)\n",
    "\n",
    "    def connect_left_fiber(self, fiber, upper_or_lower=\"lower\"):\n",
    "        print(\"connecting\", upper_or_lower, \"left optical fiber in repeater hardware\")\n",
    "        if upper_or_lower == \"upper\":\n",
    "            self.left_upper_fiber = fiber\n",
    "        else:\n",
    "            self.left_lower_fiber = fiber\n",
    "        fiber.connect_node_hardware(self)\n",
    "\n",
    "    def swap_entanglement(self):\n",
    "        print(\"swapping entanglement in repeater hardware\")\n",
    "        # proper quantum gates will be performed here.\n",
    "        # find the positions of the qubits in the globalState state\n",
    "        # apply the right qutip gates. Assume ideal gates at this point while you're\n",
    "        # building the thing.\n",
    "        # Do stuff to the global state container's state.\n",
    "        CNOT = cnot(N=int(math.log2(self.global_state.state.shape[0])), control=self.left_lower_qubit.id, target=self.right_lower_qubit.id)\n",
    "        new_state = CNOT * self.global_state.state * CNOT.dag()\n",
    "        Z180 = rz(180, N=int(math.log2(self.global_state.state.shape[0])), target=self.left_lower_qubit.id)\n",
    "        Y90  = ry(90, N=int(math.log2(self.global_state.state.shape[0])), target=self.left_lower_qubit.id)\n",
    "        H = Y90 * Z180\n",
    "        new_state = H * new_state * H.dag()\n",
    "        self.global_state.update_state(new_state)\n",
    "        measurement_result1 = self.measure(self.left_lower_qubit)\n",
    "        measurement_result2 = self.measure(self.right_lower_qubit)\n",
    "        # notify the parent repeater so that it can send the classical data to\n",
    "        # the other repeater.\n",
    "        msg = {'msg' : \"child hardware: Entanglement swapping done. Handle corrections.\", \n",
    "               'measurement_result1' : measurement_result1,\n",
    "               'measurement_result2' : measurement_result2}\n",
    "        self.send_message(self.parent_repeater, msg)\n",
    "        # Now the parent repeater should notify the remote repeater\n",
    "        # that swapping is done and should give it the measurement results.\n",
    "\n",
    "    def apply_swap_corrections(self, side, measurement_result1, measurement_result2):\n",
    "        print(\"applying swap corrections in repeater hardware\")\n",
    "        qubit = self.left_lower_qubit if side == \"left\" else self.right_lower_qubit\n",
    "        if measurement_result1 == 0 and measurement_result1 == 0:\n",
    "            correction = None\n",
    "        elif measurement_result1 == 0 and measurement_result1 == 1:\n",
    "            correction = rz(180, N=int(math.log2(self.global_state.state.shape[0])), target=qubit.id)\n",
    "        elif measurement_result1 == 1 and measurement_result1 == 0:\n",
    "            correction = rx(180, N=int(math.log2(self.global_state.state.shape[0])), target=qubit.id)\n",
    "        elif measurement_result1 == 1 and measurement_result1 == 1:\n",
    "            correction = rz(180, N=int(math.log2(self.global_state.state.shape[0])), target=qubit.id)\n",
    "            correction = rx(180, N=int(math.log2(self.global_state.state.shape[0])), target=qubit.id) * correction\n",
    "        if correction:\n",
    "            new_state = correction * self.global_state.state * correction.dag()\n",
    "            self.global_state.update_state(new_state)\n",
    "        msg = {'msg' : \"child hardware: Entanglement swapping corrections applied.\"}\n",
    "        self.send_message(self.parent_repeater, msg)\n",
    "\n",
    "    def measure(self, qubit, axis = \"01\"):\n",
    "        # https://inst.eecs.berkeley.edu/~cs191/fa14/lectures/lecture10.pdf\n",
    "        print(\"measuring qubit in repeater hardware\")\n",
    "        rho = self.global_state.state\n",
    "        # construct the projectors\n",
    "        P0 = tensor([identity(2) for _ in range(qubit.id)] + \n",
    "                    [basis(2,0) * basis(2,0).dag()] + \n",
    "                    [identity(2) for _ in range(qubit.id + 1, int(math.log2(self.global_state.state.shape[0])))])\n",
    "        P1 = tensor([identity(2) for _ in range(qubit.id)] + \n",
    "                    [basis(2,1) * basis(2,1).dag()] + \n",
    "                    [identity(2) for _ in range(qubit.id + 1, int(math.log2(self.global_state.state.shape[0])))])\n",
    "        # compute the probabilities of the 1 and 0 outcomes\n",
    "        # print(\"DEBUG: rho.tr() = \", rho.tr())\n",
    "        p0 = (P0 * rho).tr()\n",
    "        p1 = (P1 * rho).tr() # check that p1 = 1 - p0\n",
    "        # choose an outcome at random using the probabilities above.\n",
    "        result = 0 if random.random() < p0 else 1\n",
    "        # simulate state collapse\n",
    "        new_state = P0 * rho * P0 / p0 if result == 0 else P1 * rho * P1 / p1\n",
    "        # update globalState\n",
    "        self.global_state.update_state(new_state)\n",
    "        # return the measurement result\n",
    "        return result\n",
    "\n",
    "    def load_qubit_on_photon(self, qubit, photon):  # both qubit and photon are qubit objects\n",
    "        print(\"loading data from local qubit onto photon\")\n",
    "        # swaps the state of the photon and the local qubit \n",
    "        # (the photon should be initialized to |0>. The initialization \n",
    "        # can be noisy).\n",
    "        SWAP = swap(N=int(math.log2(self.global_state.state.shape[0])), targets=[qubit.id, photon.id])\n",
    "        new_state = SWAP * self.global_state.state * SWAP.dag()\n",
    "        self.global_state.update_state(new_state)\n",
    "\n",
    "    def unload_qubit_from_photon(self, qubit, photon):\n",
    "        print(\"unloading data from photon onto local qubit\")\n",
    "        # swaps the state of the photon and the local qubit \n",
    "        # (the local qubit should be initialized to |0>. The initialization \n",
    "        # can be noisy). \n",
    "        SWAP = swap(N=int(math.log2(self.global_state.state.shape[0])), targets=[qubit.id, photon.id])\n",
    "        new_state = SWAP * self.global_state.state * SWAP.dag()\n",
    "        self.global_state.update_state(new_state)\n",
    "        # notify the layers above that a qubit was received.\n",
    "        side = \"left\" if qubit in (self.left_lower_qubit, self.left_upper_qubit) else \"right\"\n",
    "        upper_or_lower = \"upper\" if qubit in (self.left_upper_qubit, self.right_upper_qubit) else \"lower\"\n",
    "        if side == \"left\":\n",
    "            fiber = self.left_upper_fiber if upper_or_lower == \"upper\" else self.left_lower_fiber\n",
    "        else:\n",
    "            fiber = self.right_upper_fiber if upper_or_lower == \"upper\" else self.right_lower_fiber\n",
    "        sender = fiber.node2 if self == fiber.node1 else fiber.node1\n",
    "        if photon.header == \"link\":\n",
    "            msg = {'msg' : \"child hardware: Received link qubit.\",  # this is the standard. Document it somewhere.\n",
    "                   'sender' : sender,\n",
    "                   'receiver' : self,\n",
    "                   'side' : side,\n",
    "                   'upper_or_lower' : upper_or_lower,\n",
    "                   'link' : photon.link}\n",
    "        else:\n",
    "            msg = {'msg' : \"child hardware: Received qubit.\",  # this is the standard. Document it somewhere.\n",
    "                   'sender' : sender, \n",
    "                   'receiver' : self,\n",
    "                   'side' : side,\n",
    "                   'upper_or_lower' : upper_or_lower}\n",
    "        photon.destroy()\n",
    "        if self.parent_repeater:\n",
    "            self.send_message(self.parent_repeater, msg)\n",
    "\n",
    "    def send_photon_through_fiber(self, photon, fiber):\n",
    "        fiber.carry_photon(photon, self)\n",
    "\n",
    "    def receive_photon_from_fiber(self, photon, fiber):\n",
    "        print(\"repeater hardware receiving photon\")\n",
    "        # This function is called by an optical fiber to\n",
    "        # alert the repeaterHardware to receive the incoming photon.\n",
    "        # The repeaterHardware chooses a (physical) qubit on which to unload the \n",
    "        # qubit carried on the photon.\n",
    "        if fiber in (self.left_upper_fiber, self.left_lower_fiber):\n",
    "            qubit = self.left_upper_qubit if fiber == self.left_upper_fiber else self.left_lower_qubit\n",
    "        else:\n",
    "            qubit = self.right_upper_qubit if fiber == self.right_upper_fiber else self.right_lower_qubit\n",
    "        self.unload_qubit_from_photon(qubit, photon)\n",
    "\n",
    "    def attempt_link_creation(self, remote_hardware, upper_or_lower=\"lower\"):\n",
    "        print(\"attempting link creation in repeater hardware\")\n",
    "        # remote is a repeater object.\n",
    "        # here the physical details of link creation will be implemented:\n",
    "        # 1. create EPR pair on one of the local qubits and a photon.\n",
    "        # 2. send the photon to the remote receiver.\n",
    "        fiber = None\n",
    "        qubit = None\n",
    "        link = None\n",
    "        if self.left_lower_fiber and self.left_lower_fiber.is_connected(remote_hardware):\n",
    "            side = \"left\"\n",
    "        elif self.left_upper_fiber and self.left_upper_fiber.is_connected(remote_hardware):\n",
    "            side = \"left\"\n",
    "        elif self.right_lower_fiber and self.right_lower_fiber.is_connected(remote_hardware):\n",
    "            side = \"right\"\n",
    "        elif self.right_upper_fiber and self.right_upper_fiber.is_connected(remote_hardware):\n",
    "            side = \"right\"\n",
    "        else:\n",
    "            print(\"not connected to remote node\")\n",
    "            return\n",
    "        # WARNING: WORDY CODE\n",
    "        if side == \"left\":\n",
    "            fiber = self.left_upper_fiber if upper_or_lower == \"upper\" else self.left_lower_fiber\n",
    "            qubit = self.left_upper_qubit if upper_or_lower == \"upper\" else self.left_lower_qubit\n",
    "            if self.parent_repeater:\n",
    "                link = self.parent_repeater.left_upper_link if upper_or_lower == \"upper\" else self.parent_repeater.left_lower_link\n",
    "        else:\n",
    "            fiber = self.right_upper_fiber if upper_or_lower == \"upper\" else self.right_lower_fiber\n",
    "            qubit = self.right_upper_qubit if upper_or_lower == \"upper\" else self.right_lower_qubit\n",
    "            if self.parent_repeater:\n",
    "                link = self.parent_repeater.right_upper_link if upper_or_lower == \"upper\" else self.parent_repeater.right_lower_link\n",
    "        qubit.reset()\n",
    "        photon = Photon()\n",
    "        photon.header = \"link\"\n",
    "        photon.link = link\n",
    "        Z180 = rz(180, N=int(math.log2(self.global_state.state.shape[0])), target=qubit.id)\n",
    "        Y90  = ry(90, N=int(math.log2(self.global_state.state.shape[0])), target=qubit.id)\n",
    "        H = Y90 * Z180\n",
    "        new_state = H * self.global_state.state * H.dag()\n",
    "        CNOT = cnot(N=int(math.log2(self.global_state.state.shape[0])), control=qubit.id, target=photon.id)\n",
    "        new_state = CNOT * new_state * CNOT.dag()\n",
    "        self.global_state.update_state(new_state)\n",
    "        self.send_photon_through_fiber(photon, fiber)\n",
    "        # notify parent_repeater\n",
    "        if self.parent_repeater:\n",
    "            msg = {'msg' : \"child hardware: Sent link qubit.\",  # this is the standard. Document it somewhere.\n",
    "                   'sender' : self, \n",
    "                   'receiver' : fiber.node2 if self == fiber.node1 else fiber.node1}\n",
    "            self.send_message(self.parent_repeater, msg)\n",
    "        # 3. (for later) check somehow that we have a good link.\n",
    "        # support for heralding stations and photon transmission, etc.\n",
    "\n",
    "    def attempt_distillation(self):\n",
    "        # apply gates on the qubits here\n",
    "        return\n",
    "    \n",
    "    def send_message(self, obj, msg):\n",
    "        obj.handle_message(msg)\n",
    "\n",
    "    def handle_message(self, msg):\n",
    "        return"
   ]
  },
  {
   "cell_type": "markdown",
   "metadata": {},
   "source": [
    "# Tests"
   ]
  },
  {
   "cell_type": "markdown",
   "metadata": {},
   "source": [
    "### Two RepeaterHardware objects sending photons between each other"
   ]
  },
  {
   "cell_type": "code",
   "execution_count": 70,
   "metadata": {
    "tags": []
   },
   "outputs": [],
   "source": [
    "from repeater_hardware import RepeaterHardware\n",
    "from _5_The_Physical_Layer.optical_fiber.optical_fiber import OpticalFiber\n",
    "from _5_The_Physical_Layer.qubit_carriers.photon import Photon\n",
    "\n",
    "from common.global_state_container import global_state_container\n",
    "\n",
    "global_state_container.init()"
   ]
  },
  {
   "cell_type": "code",
   "execution_count": 71,
   "metadata": {
    "tags": []
   },
   "outputs": [
    {
     "output_type": "stream",
     "name": "stdout",
     "text": "creating new repeater hardware\ncreating new qubit\ncreating new qubit in global state\nGUI not on\ncreating new qubit\ncreating new qubit in global state\nGUI not on\ncreating new qubit\ncreating new qubit in global state\nGUI not on\ncreating new qubit\ncreating new qubit in global state\nGUI not on\ncreating new repeater hardware\ncreating new qubit\ncreating new qubit in global state\nGUI not on\ncreating new qubit\ncreating new qubit in global state\nGUI not on\ncreating new qubit\ncreating new qubit in global state\nGUI not on\ncreating new qubit\ncreating new qubit in global state\nGUI not on\ncreating new optical fiber\n"
    }
   ],
   "source": [
    "node1 = RepeaterHardware(parent_repeater=None)\n",
    "node2 = RepeaterHardware(parent_repeater=None)\n",
    "fiber = OpticalFiber()"
   ]
  },
  {
   "cell_type": "code",
   "execution_count": 72,
   "metadata": {
    "tags": []
   },
   "outputs": [
    {
     "output_type": "stream",
     "name": "stdout",
     "text": "connecting lower right optical fiber in repeater hardware\nconnecting lower left optical fiber in repeater hardware\n"
    }
   ],
   "source": [
    "node1.connect_right_fiber(fiber)\n",
    "node2.connect_left_fiber(fiber)"
   ]
  },
  {
   "cell_type": "code",
   "execution_count": 73,
   "metadata": {
    "tags": []
   },
   "outputs": [
    {
     "output_type": "stream",
     "name": "stdout",
     "text": "<_5_The_Physical_Layer.optical_fiber.optical_fiber.OpticalFiber object at 0x00000215E8612748>\n<_5_The_Physical_Layer.optical_fiber.optical_fiber.OpticalFiber object at 0x00000215E8612748>\n"
    }
   ],
   "source": [
    "print(node1.right_lower_fiber)\n",
    "print(node2.left_lower_fiber)"
   ]
  },
  {
   "cell_type": "code",
   "execution_count": 74,
   "metadata": {
    "tags": []
   },
   "outputs": [
    {
     "output_type": "stream",
     "name": "stdout",
     "text": "creating new photon\ncreating new qubit in global state\nGUI not on\nGUI not on\nrepeater hardware receiving photon\nunloading data from photon onto local qubit\nGUI not on\ndestroying photon with id 8\ndestroying qubit 8 in global state\nGUI not on\n"
    }
   ],
   "source": [
    "node1.send_photon_through_fiber(Photon(), fiber)"
   ]
  },
  {
   "cell_type": "markdown",
   "metadata": {},
   "source": [
    "### Two RepeaterHardware objects create entanglement between each other"
   ]
  },
  {
   "cell_type": "code",
   "execution_count": 75,
   "metadata": {
    "tags": []
   },
   "outputs": [
    {
     "output_type": "stream",
     "name": "stdout",
     "text": "attempting link creation in repeater hardware\ncreating new photon\ncreating new qubit in global state\nGUI not on\nGUI not on\nGUI not on\nrepeater hardware receiving photon\nunloading data from photon onto local qubit\nGUI not on\ndestroying photon with id 8\ndestroying qubit 8 in global state\nGUI not on\n"
    }
   ],
   "source": [
    "node1.attempt_link_creation(node2, \"lower\")"
   ]
  },
  {
   "cell_type": "code",
   "execution_count": null,
   "metadata": {},
   "outputs": [],
   "source": []
  }
 ],
 "metadata": {
  "kernelspec": {
   "display_name": "Python 3.7.6 64-bit ('base': conda)",
   "language": "python",
   "name": "python_defaultSpec_1599901002186"
  },
  "language_info": {
   "codemirror_mode": {
    "name": "ipython",
    "version": 3
   },
   "file_extension": ".py",
   "mimetype": "text/x-python",
   "name": "python",
   "nbconvert_exporter": "python",
   "pygments_lexer": "ipython3",
   "version": "3.7.6-final"
  }
 },
 "nbformat": 4,
 "nbformat_minor": 2
}