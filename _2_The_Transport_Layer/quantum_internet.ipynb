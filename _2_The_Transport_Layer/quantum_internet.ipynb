{
 "cells": [
  {
   "cell_type": "markdown",
   "metadata": {},
   "source": [
    "I am not sure exactly what this layer does yet.\n",
    "\n",
    "I am guessing it does quantum error correction and stuff."
   ]
  },
  {
   "cell_type": "code",
   "execution_count": 2,
   "metadata": {},
   "outputs": [],
   "source": [
    "%load_ext autoreload\n",
    "%autoreload 2"
   ]
  },
  {
   "cell_type": "code",
   "execution_count": 1,
   "metadata": {
    "tags": []
   },
   "outputs": [
    {
     "output_type": "stream",
     "name": "stdout",
     "text": "Overwriting quantum_internet.py\n"
    }
   ],
   "source": [
    "%%writefile quantum_internet.py\n",
    "import sys\n",
    "\n",
    "sys.path.append(\"..\")\n",
    "from _3_The_Network_Layer.repeater_chain import RepeaterChain\n",
    "from common.global_state_container import global_state_container\n",
    "\n",
    "class QuantumInternet(object):\n",
    "    def __init__(self, length):\n",
    "        print(\"creating quantum internet\")\n",
    "#         self.parentApplication = parentApplication\n",
    "        global_state_container.init()\n",
    "        self.repeater_chain = RepeaterChain(length, self)\n",
    "        self.user_table = {} # for our 2 user network this table can have \n",
    "                            # at most 2 users. In front of each username goes the\n",
    "                            # user's application object (BB84 object).\n",
    "\n",
    "#     def requestLink(self, username, fidelity=0):\n",
    "#         msg = packLinkReady\n",
    "#         self.sendMessage(parentApplication, msg)\n",
    "#         pass \n",
    "        \n",
    "    def check_IsOnline(self, username):\n",
    "        return username in self.user_table\n",
    "        \n",
    "    def connect(self, application):\n",
    "        print(\"connecting application (endnode) to quantum internet\")\n",
    "        application.quantum_internet = self\n",
    "        self.repeater_chain.connect(application.endnode)\n",
    "        self.user_table.update({application.username : application})\n",
    "        print(\"new user added to user table:\", self.user_table)\n",
    "        \n",
    "    # def send_qubit(self, qubit, sender_username, receiver_username): # do async and await here?\n",
    "    #     # ask the network layer to set up a link between the two users.\n",
    "    #     endnode1 = self.user_table[sender_username].endnode\n",
    "    #     endnode2 = self.user_table[receiver_username].endnode\n",
    "    #     # await network layer link creation\n",
    "    #     self.repeater_chain.attempt_link_creation(endnode1, endnode2)\n",
    "    #     # after the link has been created repeater_chain (network layer) \n",
    "    #     # should notify quantum_internet (transport layer), and then \n",
    "    #     # quantum_internet will teleport the qubit.\n",
    "\n",
    "    def request_link(self, sender_username, receiver_username): # do async and await here?\n",
    "        print(\"requesting link in quantum internet\")\n",
    "        # ask the network layer to set up a link between the two users.\n",
    "        endnode1 = self.user_table[sender_username].endnode\n",
    "        endnode2 = self.user_table[receiver_username].endnode\n",
    "        # await network layer link creation\n",
    "        self.repeater_chain.request_link(endnode1, endnode2)\n",
    "        # after the link has been created repeater_chain (network layer) \n",
    "        # should notify quantum_internet (transport layer), and then \n",
    "        # quantum_internet will teleport the qubit?\n",
    "    \n",
    "    # def transport_qubit(self, qubit, sender_endnode, receiver_endnode):\n",
    "    #     return\n",
    "\n",
    "    def send_message(self, obj, msg):\n",
    "        obj.handle_message(msg)\n",
    "\n",
    "    def handle_message(self, msg):\n",
    "        print(\"quantum internet received message:\", msg['msg'])\n",
    "        if msg['msg'] == \"network layer: Link to remote endnode created.\":\n",
    "            # check if the nodes have a pending transport request\n",
    "            # ...\n",
    "            # then transport qubit\n",
    "            # self.transport_qubit(qubit, msg['endnode1'], msg['endnode1'])\n",
    "            msg['msg'] = \"quantum internet: Link to remote user created.\"\n",
    "            self.send_message(msg['endnode1'], msg)\n",
    "            self.send_message(msg['endnode2'], msg)\n",
    "        elif msg['msg'] == \"endnode: Teleport done. Handle corrections.\":\n",
    "            msg['msg'] = \"quantum internet: Teleport done. Handle corrections.\"\n",
    "            self.send_message(msg['receiver_node'], msg)\n",
    "        # elif msg['msg'] == \"forward to user\":\n",
    "        #     msg['msg'] = \"msg from user\"\n",
    "        #     self.send_message(self.user_table[msg.receiver], msg)\n",
    "        else:\n",
    "            print(\"quantum internet received unknown message \\\"\" + msg['msg'] + \"\\\"\")"
   ]
  },
  {
   "cell_type": "code",
   "execution_count": null,
   "metadata": {},
   "outputs": [],
   "source": []
  }
 ],
 "metadata": {
  "kernelspec": {
   "display_name": "Python 3.7.6 64-bit ('base': conda)",
   "language": "python",
   "name": "python_defaultSpec_1599806430275"
  },
  "language_info": {
   "codemirror_mode": {
    "name": "ipython",
    "version": 3
   },
   "file_extension": ".py",
   "mimetype": "text/x-python",
   "name": "python",
   "nbconvert_exporter": "python",
   "pygments_lexer": "ipython3",
   "version": "3.7.6-final"
  }
 },
 "nbformat": 4,
 "nbformat_minor": 2
}